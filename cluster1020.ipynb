{
 "cells": [
  {
   "cell_type": "markdown",
   "metadata": {},
   "source": [
    "\n",
    "1. 数据脱敏，将违章者的姓名、驾驶证号等个人隐私信息替换；\n",
    "2. 交通违章行为危害性评估：根据违章的类型、描述、事故等级等信息，给每次违章设置一个危害指数；\n",
    "3. 提取违章者的违法行为特征变量l1,l2,l3…如司机在一年内违章的次数、两次违章之间间隔、违章危害指数等；\n",
    "4. 对违章者数据进行聚类：对3中的特征变量进行归一化、划分等级、以及相关性评估，选取用于聚类的变量，利用k-means进行聚类。得到k个违章者群体。\n",
    "5. 分别对k个违章群体进行描述性分析：属于这个群体的违章者的主要准驾车辆、违章时间分布、主要违章行为等信息，词云可视化；\n",
    "6. 选取白天/夜间，工作日/周末等研究区间，进行4-5步骤，探究在不同的时间段内违章群体的构成与特征是否会发生变化。"
   ]
  },
  {
   "cell_type": "code",
   "execution_count": 2,
   "metadata": {},
   "outputs": [],
   "source": [
    "import pandas as pd\n",
    "from IPython.display import display\n",
    "import numpy as np\n",
    "\n",
    "from matplotlib import pyplot as plt"
   ]
  },
  {
   "cell_type": "code",
   "execution_count": 3,
   "metadata": {},
   "outputs": [
    {
     "name": "stderr",
     "output_type": "stream",
     "text": [
      "/opt/anaconda3/lib/python3.8/site-packages/IPython/core/interactiveshell.py:3146: DtypeWarning: Columns (7,36,38,39,40,43,44,48,49) have mixed types.Specify dtype option on import or set low_memory=False.\n",
      "  has_raised = await self.run_ast_nodes(code_ast.body, cell_name,\n",
      "/opt/anaconda3/lib/python3.8/site-packages/IPython/core/interactiveshell.py:3146: DtypeWarning: Columns (38,39,40,43,44,48,49) have mixed types.Specify dtype option on import or set low_memory=False.\n",
      "  has_raised = await self.run_ast_nodes(code_ast.body, cell_name,\n"
     ]
    },
    {
     "name": "stdout",
     "output_type": "stream",
     "text": [
      "273732\n",
      "362170\n"
     ]
    }
   ],
   "source": [
    "# data_path = \"/exstorage/zjr/traffic/data/data3.csv\"\n",
    "data_path1 = \"/Users/jiarui/Study/交通事故/data/海宁2020.1-6.csv\"\n",
    "data_path2 = \"/Users/jiarui/Study/交通事故/data/海宁2020.7-12.csv\"\n",
    "data_path2019 = \"\"\n",
    "data_path2018 =\n",
    "\n",
    "df1 = pd.read_csv(data_path1)\n",
    "df2 = pd.read_csv(data_path2)\n",
    "print(len(df1))\n",
    "print(len(df2))"
   ]
  },
  {
   "cell_type": "code",
   "execution_count": 4,
   "outputs": [
    {
     "name": "stdout",
     "output_type": "stream",
     "text": [
      "635902\n"
     ]
    }
   ],
   "source": [
    "df = pd.concat([df1,df2])\n",
    "print(len(df))"
   ],
   "metadata": {
    "collapsed": false,
    "pycharm": {
     "name": "#%%\n"
    }
   }
  },
  {
   "cell_type": "markdown",
   "metadata": {},
   "source": [
    "## 数据预处理\n",
    "数据脱敏\n",
    "\n",
    "选择有需要的列\n",
    "\n",
    "筛选出机动车和非机动车，机动车可以根据驾驶证号计算年龄"
   ]
  },
  {
   "cell_type": "code",
   "execution_count": 8,
   "metadata": {},
   "outputs": [],
   "source": [
    "## 选择有需要的列\n",
    "df = df[['违法时间', '当事人_驾驶证号',\n",
    "         '当事人_发证机关', '当事人_准驾车型', '机动车_号牌种类', '机动车_号牌种类说明', '机动车_使用性质说明', '机动车_号牌号码', '机动车_交通方式',\n",
    "         '机动车_交通方式说明', '违法地点', '违法地点_道路类型', '违法地点_路段代码', '违法地点_地点米数',\n",
    "         '违法地点_违法地址', '违法地点_公路行政等级', '违法行为', '违法行为_违法大类', '违法行为_违法小类',\n",
    "         '违法行为_违法描述', '违法行为_事故等级', '违法行为记分数', '违法行为罚款金额', '违法行为_实测值', '违法行为_标准值']]"
   ]
  },
  {
   "cell_type": "code",
   "execution_count": 9,
   "metadata": {},
   "outputs": [],
   "source": [
    "list_display = ['当事人_驾驶证号', '违法时间', '机动车_交通方式说明', '违法行为_违法小类', '违法行为_违法描述', '违法行为记分数', '违法行为罚款金额']"
   ]
  },
  {
   "cell_type": "code",
   "execution_count": 10,
   "metadata": {},
   "outputs": [
    {
     "name": "stdout",
     "output_type": "stream",
     "text": [
      "87\n",
      "电动自行车     135361\n",
      "步行          4512\n",
      "其他非机动车      3933\n",
      "乘车          1023\n",
      "三轮车          520\n",
      "自行车          132\n",
      "Name: 机动车_交通方式说明, dtype: int64\n",
      "6\n",
      "小型轿车           237513\n",
      "小型普通客车          99288\n",
      "小型越野客车          17699\n",
      "小型面包车           13419\n",
      "轻型栏板货车           9269\n",
      "重型半挂牵引车          6528\n",
      "轻型厢式货车           6358\n",
      "重型自卸货车           3957\n",
      "重型厢式货车           2964\n",
      "重型栏板货车           2842\n",
      "重型仓栅式货车          2772\n",
      "普通二轮摩托车          2539\n",
      "轻型自卸货车           1171\n",
      "轻型封闭式货车          1094\n",
      "正三轮载货摩托车          897\n",
      "轻型仓栅式货车           743\n",
      "重型特殊结构货车          704\n",
      "中型栏板货车            546\n",
      "微型轿车              447\n",
      "重型集装箱半挂车          445\n",
      "重型自卸半挂车           306\n",
      "中型厢式货车            305\n",
      "重型非载货专项作业车        262\n",
      "中型普通客车            215\n",
      "重型罐式货车            213\n",
      "大型普通客车            210\n",
      "重型栏板半挂车           207\n",
      "轻便二轮摩托车           170\n",
      "重型平板半挂车           157\n",
      "重型平板自卸半挂车         144\n",
      "重型平板货车            140\n",
      "重型低平板半挂车          130\n",
      "小型专用客车            121\n",
      "轻型非载货专项作业车        117\n",
      "重型罐式半挂车            82\n",
      "轻型多用途货车            77\n",
      "重型仓栅式半挂车           67\n",
      "中型非载货专项作业车         49\n",
      "中型仓栅式货车            46\n",
      "中型自卸货车             46\n",
      "微型面包车              43\n",
      "重型载货专项作业车          40\n",
      "中型罐式货车             36\n",
      "轻型特殊结构货车           31\n",
      "自卸低速货车             28\n",
      "栏板低速货车             27\n",
      "轻型平板货车             26\n",
      "重型罐式自卸半挂车          17\n",
      "普通正三轮摩托车           14\n",
      "轻型载货专项作业车          13\n",
      "轻型专门用途货车           13\n",
      "小型非载货专项作业车         10\n",
      "中型专用客车             10\n",
      "中型特殊结构货车            9\n",
      "中型载货专项作业车           9\n",
      "重型厢式半挂车             9\n",
      "其它                  9\n",
      "正三轮载客摩托车            8\n",
      "微型普通客车              7\n",
      "重型罐式自卸货车            6\n",
      "大型轮式拖拉机             6\n",
      "轻型罐式货车              5\n",
      "微型封闭式货车             4\n",
      "轻便正三轮摩托车            4\n",
      "大型专用客车              4\n",
      "中型平板货车              4\n",
      "微型栏板货车              4\n",
      "助力自行车               3\n",
      "残疾人专用车              3\n",
      "重型专项作业半挂车           3\n",
      "大型非载货专项作业车          2\n",
      "畜力车                 2\n",
      "重型特殊结构半挂车           2\n",
      "重型中置轴车辆运输挂车         2\n",
      "大型卧铺客车              2\n",
      "中型封闭式货车             1\n",
      "侧三轮摩托车              1\n",
      "大型旅居车               1\n",
      "重型车辆运输车             1\n",
      "中型半挂牵引车             1\n",
      "Name: 机动车_交通方式说明, dtype: int64\n",
      "80\n",
      "K33    237513\n",
      "K31     99288\n",
      "K32     17699\n",
      "K39     13419\n",
      "H31      9269\n",
      "Q11      6528\n",
      "H32      6358\n",
      "H17      3957\n",
      "H12      2964\n",
      "H11      2842\n",
      "H19      2772\n",
      "M21      2539\n",
      "H37      1171\n",
      "H33      1094\n",
      "M14       897\n",
      "H39       743\n",
      "H18       704\n",
      "H21       546\n",
      "K43       447\n",
      "B15       445\n",
      "B16       306\n",
      "H22       305\n",
      "Z51       262\n",
      "K21       215\n",
      "H14       213\n",
      "K11       210\n",
      "B11       207\n",
      "M22       170\n",
      "B14       157\n",
      "B1E       144\n",
      "H15       140\n",
      "B1B       130\n",
      "K34       121\n",
      "Z71       117\n",
      "B13        82\n",
      "H3H        77\n",
      "B18        67\n",
      "Z21        49\n",
      "H27        46\n",
      "H29        46\n",
      "K49        43\n",
      "Z52        40\n",
      "H24        36\n",
      "H38        31\n",
      "H54        28\n",
      "H51        27\n",
      "H35        26\n",
      "B1D        17\n",
      "M11        14\n",
      "Z72        13\n",
      "H3J        13\n",
      "K27        10\n",
      "Z31        10\n",
      "B12         9\n",
      "X99         9\n",
      "H28         9\n",
      "Z22         9\n",
      "M13         8\n",
      "K41         7\n",
      "T11         6\n",
      "H1C         6\n",
      "H34         5\n",
      "K17         4\n",
      "H25         4\n",
      "H41         4\n",
      "H43         4\n",
      "M12         4\n",
      "B1A         3\n",
      "F04         3\n",
      "F06         3\n",
      "F05         2\n",
      "K13         2\n",
      "B17         2\n",
      "B1V         2\n",
      "Z11         2\n",
      "M15         1\n",
      "H1A         1\n",
      "Q21         1\n",
      "H23         1\n",
      "K1A         1\n",
      "Name: 机动车_交通方式, dtype: int64\n",
      "80\n"
     ]
    }
   ],
   "source": [
    "## 筛选机动车与非机动车\n",
    "pd.set_option('display.max_rows', 200)\n",
    "action_count = df['机动车_交通方式说明'].value_counts()\n",
    "# print(action_count.head(104))\n",
    "print(len(action_count))\n",
    "\n",
    "# action_count = df['机动车_号牌种类说明'].value_counts()\n",
    "# print(action_count.head(104))\n",
    "# print(len(action_count))\n",
    "list_no_vehicle = ['步行', '乘车', '电动自行车', '其他非机动车', '自行车', '三轮车']\n",
    "df_no_vehicle = df[df['机动车_交通方式说明'].isin(list_no_vehicle)]\n",
    "df_vehicle = df.drop(df[df['机动车_交通方式说明'].isin(list_no_vehicle)].index)\n",
    "\n",
    "action_count = df_no_vehicle['机动车_交通方式说明'].value_counts()\n",
    "print(action_count.head(104))\n",
    "print(len(action_count))\n",
    "\n",
    "action_count = df_vehicle['机动车_交通方式说明'].value_counts()\n",
    "print(action_count.head(104))\n",
    "print(len(action_count))\n",
    "\n",
    "action_count = df_vehicle['机动车_交通方式'].value_counts()\n",
    "print(action_count.head(104))\n",
    "print(len(action_count))"
   ]
  },
  {
   "cell_type": "code",
   "execution_count": 11,
   "metadata": {},
   "outputs": [
    {
     "data": {
      "text/plain": "非营运       382573\n货运         24247\n预约出租客运      3723\n营转非         1996\n出租客运         701\n教练           468\n租赁           358\n危化品运输        264\n公交客运         109\n预约出租转非        84\n旅游客运          69\n公路客运          29\n工程救险          24\n出租转非          16\n救护             4\n警用             1\nName: 机动车_使用性质说明, dtype: int64"
     },
     "execution_count": 11,
     "metadata": {},
     "output_type": "execute_result"
    }
   ],
   "source": [
    "# 区分营运车辆和非营运车辆\n",
    "df_vehicle['机动车_使用性质说明'].value_counts()"
   ]
  },
  {
   "cell_type": "code",
   "execution_count": 12,
   "metadata": {},
   "outputs": [],
   "source": [
    "# print(df_vehicle[df_vehicle['机动车_使用性质说明'] == '非营运']['机动车_交通方式说明'].value_counts())\n",
    "\n",
    "# print(df_vehicle[df_vehicle['机动车_使用性质说明'] == '租赁']['机动车_交通方式说明'].value_counts())\n",
    "df_no_yingyun = df_vehicle[df_vehicle['机动车_使用性质说明'] == '非营运']\n",
    "df_yingyun = df_vehicle[df_vehicle['机动车_使用性质说明'] != '非营运']"
   ]
  },
  {
   "cell_type": "code",
   "execution_count": 13,
   "metadata": {},
   "outputs": [],
   "source": [
    "# 计算dataframe的各个维度特征，如交通方式编码、计算年龄、给违法行为评估\n",
    "def data_get_feature(df_vehicle):\n",
    "    ## 直接去掉没有驾驶证号的\n",
    "    print('原来机动车违法的数据有{}条'.format(len(df_vehicle)))\n",
    "    df_vehicle = df_vehicle.drop(df_vehicle[df_vehicle['当事人_驾驶证号'].isin(['无', np.nan])].index)\n",
    "    # 删除掉驾驶证号不完全或者有误的\n",
    "    df_vehicle = df_vehicle.loc[df_vehicle['当事人_驾驶证号'].str.len() == 18].reset_index()\n",
    "    print('经过去除无驾驶证号的之后，还有{}'.format(len(df_vehicle)))\n",
    "    df_vehicle[df_vehicle['当事人_驾驶证号'].isin([np.nan])][['当事人_驾驶证号',\n",
    "                                                       '当事人_发证机关', '当事人_准驾车型', '机动车_号牌种类', '机动车_号牌种类说明', '机动车_交通方式',\n",
    "                                                       '机动车_交通方式说明', '违法地点']]\n",
    "\n",
    "    # 给交通方式编码\n",
    "    df_vehicle['trans_code'] = 0\n",
    "    # print(df_vehicle['机动车_交通方式说明'].str.contains('小型轿车'))\n",
    "    list_1 = ['小型轿车', '面包车']\n",
    "    df_vehicle.loc[df_vehicle['机动车_交通方式说明'].str.contains('小型轿车|面包车'), 'trans_code'] = 1\n",
    "\n",
    "    list_2 = ['货车', '大型轿车', '作业车', '大型专用校车']\n",
    "    df_vehicle.loc[df_vehicle['机动车_交通方式说明'].str.contains('货车|大型轿车|作业车|大型专用校车|有轨电车|手扶变形运输机'), 'trans_code'] = 2\n",
    "\n",
    "    list_3 = ['牵引车', '挂车']\n",
    "    df_vehicle.loc[df_vehicle['机动车_交通方式说明'].str.contains('牵引车|挂车|轮式挖掘机械'), 'trans_code'] = 3\n",
    "\n",
    "    list_4 = ['客车']\n",
    "    df_vehicle.loc[df_vehicle['机动车_交通方式说明'].str.contains('客车'), 'trans_code'] = 4\n",
    "\n",
    "    list_5 = ['摩托车']\n",
    "    df_vehicle.loc[df_vehicle['机动车_交通方式说明'].str.contains('摩托车'), 'trans_code'] = 5\n",
    "\n",
    "    df_vehicle.loc[df_vehicle['机动车_交通方式说明'].str.contains('微型轿车|三轮汽车|残疾人专用车|助力自行车|手推车|其它|拖拉机'), 'trans_code'] = 6\n",
    "\n",
    "    print(\"--------------交通方式编码完成----------------\")\n",
    "\n",
    "    ## 计算年龄\n",
    "    born_year = df_vehicle['当事人_驾驶证号'].str[6:10]\n",
    "    # born_year = born_year.astype('int64'，errors = 'ignore')\n",
    "    # pd.to_numeric(born_year, errors='coerce').fillna(0)\n",
    "    df_vehicle['age'] = 2021 - pd.to_numeric(born_year, errors='coerce').fillna(0)\n",
    "    df_vehicle = df_vehicle.drop(\n",
    "        df_vehicle[(df_vehicle['age'] > 80) | (df_vehicle['age'] < 10) | (df_vehicle['age'] == np.nan)].index)\n",
    "\n",
    "    # 筛选违法行为类型\n",
    "    df_vehicle = df_vehicle.drop(\n",
    "        df_vehicle[(df_vehicle['违法行为_违法小类'] == '其他影响安全行为') | (df_vehicle['违法行为_违法小类'] == '其他违法行为')].index)\n",
    "    df_vehicle = df_vehicle.drop(\n",
    "        df_vehicle[(df_vehicle['违法行为_违法小类'] == '其他') | (df_vehicle['违法行为_违法小类'] == '擅自销售生产机动车')].index)\n",
    "    df_vehicle = df_vehicle.drop(\n",
    "        df_vehicle[(df_vehicle['违法行为_违法小类'] == '铁路道口或渡口') | (df_vehicle['违法行为_违法小类'] == '违法占道')].index)\n",
    "    df_vehicle = df_vehicle.drop(\n",
    "        df_vehicle[(df_vehicle['违法行为_违法小类'] == '违法牵引') | (df_vehicle['违法行为_违法小类'] == '非法获取机动车牌证')].index)\n",
    "    df_vehicle.loc[(df_vehicle['违法行为_违法小类'] == '违反交通信号') & (\n",
    "        df_vehicle['违法行为_违法描述'].str.contains('违反道路交通信号灯')), '违法行为_违法小类'] = '违反交通信号灯'\n",
    "\n",
    "    print(len(df_vehicle))\n",
    "    #     print(df_vehicle['违法行为_违法小类'].value_counts())\n",
    "\n",
    "    #给违法行为的危险性打分\n",
    "    df_vehicle['occur_prob'] = 1.0\n",
    "    df_vehicle['severity'] = 1.0\n",
    "\n",
    "    df_vehicle.loc[df_vehicle['违法行为_违法小类'] == '违法上道路行驶', 'occur_prob'] = 1\n",
    "    df_vehicle.loc[df_vehicle['违法行为_违法小类'] == '违法上道路行驶', 'severity'] = 1\n",
    "\n",
    "    df_vehicle.loc[df_vehicle['违法行为_违法小类'] == '违法停车', 'occur_prob'] = 1\n",
    "    df_vehicle.loc[df_vehicle['违法行为_违法小类'] == '违法停车', 'severity'] = 1\n",
    "\n",
    "    df_vehicle.loc[df_vehicle['违法行为_违法小类'] == '违反交通信号', 'occur_prob'] = 1\n",
    "    df_vehicle.loc[df_vehicle['违法行为_违法小类'] == '违反交通信号', 'severity'] = 1\n",
    "    df_vehicle.loc[\n",
    "        (df_vehicle['违法行为_违法小类'] == '违反交通信号') & (df_vehicle['违法行为_违法描述'].str.contains('违反交通信号')), 'occur_prob'] = 5\n",
    "    df_vehicle.loc[\n",
    "        (df_vehicle['违法行为_违法小类'] == '违反交通信号') & (df_vehicle['违法行为_违法描述'].str.contains('违反交通信号')), 'severity'] = 5\n",
    "    df_vehicle.loc[df_vehicle['违法行为_违法小类'] == '违反交通信号灯', 'severity'] = 5\n",
    "    df_vehicle.loc[df_vehicle['违法行为_违法小类'] == '违反交通信号灯', 'occur_prob'] = 5\n",
    "\n",
    "    df_vehicle.loc[df_vehicle['违法行为_违法小类'] == '违法装载', 'occur_prob'] = 2\n",
    "    df_vehicle.loc[df_vehicle['违法行为_违法小类'] == '违法装载', 'severity'] = 5\n",
    "\n",
    "    df_vehicle.loc[df_vehicle['违法行为_违法小类'] == '未按规定办理业务', 'occur_prob'] = 1\n",
    "    df_vehicle.loc[df_vehicle['违法行为_违法小类'] == '未按规定办理业务', 'severity'] = 1\n",
    "\n",
    "    df_vehicle.loc[df_vehicle['违法行为_违法小类'] == '违法占道行驶', 'occur_prob'] = 3\n",
    "    df_vehicle.loc[df_vehicle['违法行为_违法小类'] == '违法占道行驶', 'severity'] = 3\n",
    "\n",
    "    df_vehicle.loc[df_vehicle['违法行为_违法小类'] == '违法抢行', 'occur_prob'] = 5\n",
    "    df_vehicle.loc[df_vehicle['违法行为_违法小类'] == '违法抢行', 'severity'] = 4\n",
    "\n",
    "    df_vehicle.loc[df_vehicle['违法行为_违法小类'] == '货动车辆超载', 'occur_prob'] = 2\n",
    "    df_vehicle.loc[df_vehicle['违法行为_违法小类'] == '货动车辆超载', 'severity'] = 5\n",
    "\n",
    "    df_vehicle.loc[df_vehicle['违法行为_违法小类'] == '违法装载', 'occur_prob'] = 2\n",
    "    df_vehicle.loc[df_vehicle['违法行为_违法小类'] == '违法装载', 'severity'] = 5\n",
    "\n",
    "    df_vehicle.loc[df_vehicle['违法行为_违法小类'] == '不按规定使用灯光', 'occur_prob'] = 2\n",
    "    df_vehicle.loc[df_vehicle['违法行为_违法小类'] == '不按规定使用灯光', 'severity'] = 3\n",
    "\n",
    "    df_vehicle.loc[df_vehicle['违法行为_违法小类'] == '饮酒驾驶', 'occur_prob'] = 5\n",
    "    df_vehicle.loc[df_vehicle['违法行为_违法小类'] == '饮酒驾驶', 'severity'] = 5\n",
    "\n",
    "    df_vehicle.loc[df_vehicle['违法行为_违法小类'] == '超速行驶', 'occur_prob'] = 5\n",
    "    df_vehicle.loc[df_vehicle['违法行为_违法小类'] == '超速行驶', 'severity'] = 4\n",
    "\n",
    "    df_vehicle.loc[df_vehicle['违法行为_违法小类'] == '违法掉头', 'occur_prob'] = 4\n",
    "    df_vehicle.loc[df_vehicle['违法行为_违法小类'] == '违法掉头', 'severity'] = 4\n",
    "\n",
    "    df_vehicle.loc[df_vehicle['违法行为_违法小类'] == '疲劳驾驶', 'occur_prob'] = 5\n",
    "    df_vehicle.loc[df_vehicle['违法行为_违法小类'] == '疲劳驾驶', 'severity'] = 5\n",
    "\n",
    "    df_vehicle.loc[df_vehicle['违法行为_违法小类'] == '无证驾驶', 'occur_prob'] = 4\n",
    "    df_vehicle.loc[df_vehicle['违法行为_违法小类'] == '无证驾驶', 'severity'] = 3\n",
    "\n",
    "    df_vehicle.loc[df_vehicle['违法行为_违法小类'] == '逆行', 'occur_prob'] = 5\n",
    "    df_vehicle.loc[df_vehicle['违法行为_违法小类'] == '逆行', 'severity'] = 4\n",
    "\n",
    "    df_vehicle.loc[df_vehicle['违法行为_违法小类'] == '未按规定让行', 'occur_prob'] = 1\n",
    "    df_vehicle.loc[df_vehicle['违法行为_违法小类'] == '未按规定让行', 'severity'] = 1\n",
    "\n",
    "    df_vehicle.loc[df_vehicle['违法行为_违法小类'] == '违法倒车', 'occur_prob'] = 2\n",
    "    df_vehicle.loc[df_vehicle['违法行为_违法小类'] == '违法倒车', 'severity'] = 2\n",
    "\n",
    "    df_vehicle.loc[df_vehicle['违法行为_违法小类'] == '醉酒驾驶', 'occur_prob'] = 5\n",
    "    df_vehicle.loc[df_vehicle['违法行为_违法小类'] == '醉酒驾驶', 'severity'] = 5\n",
    "\n",
    "    df_vehicle.loc[df_vehicle['违法行为_违法小类'] == '违法变更车道', 'occur_prob'] = 5\n",
    "    df_vehicle.loc[df_vehicle['违法行为_违法小类'] == '违法变更车道', 'severity'] = 4\n",
    "\n",
    "    df_vehicle.loc[df_vehicle['违法行为_违法小类'] == '客运车辆超员', 'occur_prob'] = 2\n",
    "    df_vehicle.loc[df_vehicle['违法行为_违法小类'] == '客运车辆超员', 'severity'] = 5\n",
    "\n",
    "    df_vehicle.loc[df_vehicle['违法行为_违法小类'] == '未低速通过', 'occur_prob'] = 4\n",
    "    df_vehicle.loc[df_vehicle['违法行为_违法小类'] == '未低速通过', 'severity'] = 4\n",
    "\n",
    "    df_vehicle.loc[df_vehicle['违法行为_违法小类'] == '违法超车', 'occur_prob'] = 4\n",
    "    df_vehicle.loc[df_vehicle['违法行为_违法小类'] == '违法超车', 'severity'] = 3\n",
    "\n",
    "    df_vehicle.loc[df_vehicle['违法行为_违法小类'] == '违法装载超限及危险品运输', 'occur_prob'] = 2\n",
    "    df_vehicle.loc[df_vehicle['违法行为_违法小类'] == '违法装载超限及危险品运输', 'severity'] = 5\n",
    "\n",
    "    df_vehicle.loc[df_vehicle['违法行为_违法小类'] == '违法会车', 'occur_prob'] = 5\n",
    "    df_vehicle.loc[df_vehicle['违法行为_违法小类'] == '违法会车', 'severity'] = 4\n",
    "\n",
    "    # 外来或本地,省内为1 省外为2\n",
    "    df_vehicle['is_local'] = 1\n",
    "    df_vehicle.loc[df_vehicle['机动车_号牌号码'].str[0:1] != '浙', 'is_local'] = 2\n",
    "    df_vehicle['is_local'].value_counts()\n",
    "\n",
    "    #数据概况\n",
    "    driver_count = df_vehicle['当事人_驾驶证号'].value_counts()\n",
    "    count = (driver_count >= 3).sum()\n",
    "    count2 = (driver_count == 2).sum()\n",
    "    print(\n",
    "        \"机动车总共违法记录{}，总共有{}个违法人\\n其中违法次数大于等于3的有{}人\\n违法次数2的有{}人\".format(len(df_vehicle), len(driver_count), count, count2))\n",
    "\n",
    "    return df_vehicle"
   ]
  },
  {
   "cell_type": "code",
   "execution_count": 14,
   "metadata": {},
   "outputs": [
    {
     "name": "stdout",
     "output_type": "stream",
     "text": [
      "原来机动车违法的数据有382573条\n",
      "经过去除无驾驶证号的之后，还有336616\n",
      "--------------交通方式编码完成----------------\n",
      "313886\n",
      "机动车总共违法记录313886，总共有222036个违法人\n",
      "其中违法次数大于等于3的有19871人\n",
      "违法次数2的有40039人\n",
      "原来机动车违法的数据有32106条\n",
      "经过去除无驾驶证号的之后，还有29936\n",
      "--------------交通方式编码完成----------------\n",
      "28070\n",
      "机动车总共违法记录28070，总共有21682个违法人\n",
      "其中违法次数大于等于3的有1412人\n",
      "违法次数2的有2620人\n"
     ]
    }
   ],
   "source": [
    "df_no_yingyun_value = data_get_feature(df_no_yingyun)\n",
    "df_yingyun_value = data_get_feature(df_yingyun)"
   ]
  },
  {
   "cell_type": "code",
   "execution_count": 15,
   "metadata": {},
   "outputs": [],
   "source": [
    "df_yingyun_value.to_csv(\"/Users/jiarui/Study/交通事故/data/output/df_yingyun_value.csv\")\n",
    "df_no_yingyun_value.to_csv(\"/Users/jiarui/Study/交通事故/data/output/df_no_yingyun_value.csv\")"
   ]
  },
  {
   "cell_type": "markdown",
   "metadata": {},
   "source": [
    "### 选取聚类的特征变量\n",
    "\n",
    "基本属性：性别、本地/外来，驾驶车型、年龄、驾龄；\n",
    "\n",
    "行为属性：个人在一年内的违章次数、罚款金额、总扣分数、违章危害得分等；"
   ]
  },
  {
   "cell_type": "code",
   "execution_count": 16,
   "metadata": {},
   "outputs": [
    {
     "name": "stderr",
     "output_type": "stream",
     "text": [
      "/opt/anaconda3/lib/python3.8/site-packages/IPython/core/interactiveshell.py:3146: DtypeWarning: Columns (11,18,19,46) have mixed types.Specify dtype option on import or set low_memory=False.\n",
      "  has_raised = await self.run_ast_nodes(code_ast.body, cell_name,\n"
     ]
    }
   ],
   "source": [
    "df_driver_info = pd.read_csv(\"/Users/jiarui/Study/交通事故/data/海宁驾驶证信息表.csv\")\n",
    "def get_level(df_vehicle):\n",
    "    df_calculate = df_vehicle[\n",
    "        ['当事人_驾驶证号', 'age', 'is_local', 'trans_code', 'occur_prob', 'severity', '违法行为记分数', '违法行为罚款金额', '违法行为_事故等级']]\n",
    "    # df_res是每个司机的数值，df_level是每个司机数值划分后的结果\n",
    "    df_res = df_calculate.groupby('当事人_驾驶证号').agg('mean')\n",
    "    df_res.columns = ['age', 'is_local', 'trans_code', 'occur_prob', 'severity', 'score', 'fine', 'accident']\n",
    "    df_res.index_name = '当事人_驾驶证号'\n",
    "    df_res['counts'] = df_calculate['当事人_驾驶证号'].value_counts()\n",
    "    for uid in df_calculate['当事人_驾驶证号']:\n",
    "        dfi = df_driver_info[df_driver_info[\"身份证明号码\"] == uid]\n",
    "        gender = dfi[\"性别\"]\n",
    "        first_year = dfi['初次领证日期'].str[6:10]\n",
    "        drive_age = 2021 - pd.to_numeric(first_year, errors='coerce').fillna(0)\n",
    "        driver_source = dfi[\"驾驶人来源说明\"]\n",
    "        driver_address = dfi[\"联系住所详细地址\"]\n",
    "        df_res[df_res['当事人_驾驶证号' == uid]]['gender'] = gender\n",
    "        df_res[df_res['当事人_驾驶证号' == uid]]['driver_age'] = drive_age\n",
    "        df_res[df_res['当事人_驾驶证号' == uid]]['source'] = driver_source\n",
    "        df_res[df_res['当事人_驾驶证号' == uid]]['address'] = driver_address\n",
    "\n",
    "    #     df_res[df_res['counts'] < 20]['counts'].plot(kind='hist')\n",
    "    # 如果只是df_level=df_res 是浅拷贝，和引用类似，会导致修改原来的值\n",
    "    df_level = df_res.copy(deep=True)\n",
    "    df_level = df_level.round(0)\n",
    "    list_col = df_res.columns\n",
    "    # list_col = ['counts']\n",
    "    for col in list_col:\n",
    "        if col == 'id' or col == 'trans_code' or col == 'is_local':\n",
    "            continue\n",
    "        dfi = df_level[col].copy(deep=True)\n",
    "        Q1 = df_level[col].quantile(0.25)\n",
    "        Q2 = df_level[col].quantile(0.5)\n",
    "        Q3 = df_level[col].quantile(0.75)\n",
    "        IQR = Q3 - Q1\n",
    "        Max = Q3 + IQR * 1.5\n",
    "        Min = Q1 - IQR * 1.5\n",
    "        if col == 'counts':\n",
    "            df_level.loc[dfi >= 5, col] = 5\n",
    "        elif col == 'score':\n",
    "            df_level.loc[dfi <= 0.5, col] = 1\n",
    "            df_level.loc[(dfi < 1) & (dfi > 0.5), col] = 2\n",
    "            df_level.loc[(dfi < 2) & (dfi >= 1), col] = 3\n",
    "            df_level.loc[(dfi < 3) & (dfi >= 2), col] = 4\n",
    "            df_level.loc[(dfi < 6) & (dfi >= 3), col] = 5\n",
    "            df_level.loc[dfi >= 6, col] = 6\n",
    "        elif col == 'fine':\n",
    "            df_level.loc[dfi < 50, col] = 1\n",
    "            df_level.loc[(dfi < 100) & (dfi >= 50), col] = 2\n",
    "            df_level.loc[(dfi < 150) & (dfi >= 100), col] = 3\n",
    "            df_level.loc[(dfi < 200) & (dfi >= 150), col] = 4\n",
    "            df_level.loc[(dfi < 300) & (dfi >= 200), col] = 5\n",
    "            df_level.loc[dfi >= 300, col] = 6\n",
    "        elif col == 'age':\n",
    "            df_level.loc[dfi <= 25, col] = 1\n",
    "            df_level.loc[(dfi < 35) & (dfi >= 25), col] = 2\n",
    "            df_level.loc[(dfi < 45) & (dfi >= 35), col] = 3\n",
    "            df_level.loc[(dfi < 55) & (dfi >= 45), col] = 4\n",
    "            df_level.loc[dfi >= 55, col] = 5\n",
    "        elif col == 'accident':\n",
    "            df_level.loc[dfi == 0, col] = 1\n",
    "            df_level.loc[(dfi <= 2) & (dfi > 0), col] = 2\n",
    "            df_level.loc[(dfi <= 4) & (dfi > 2), col] = 3\n",
    "        # else:\n",
    "        #     df_level.loc[(dfi < Min) & (dfi >= 0), col] = 1\n",
    "        #     df_level.loc[(dfi < Q1) & (dfi >= Min), col] = 2\n",
    "        #     df_level.loc[(dfi < Q2) & (dfi >= Q1), col] = 3\n",
    "        #     df_level.loc[(dfi < Q3) & (dfi >= Q2), col] = 4\n",
    "        #     df_level.loc[(dfi < Max) & (dfi >= Q3), col] = 5\n",
    "        #     df_level.loc[dfi >= Max, col] = 6\n",
    "    df_level.index.name = 'id'\n",
    "    display(df_level)\n",
    "    return df_level"
   ]
  },
  {
   "cell_type": "code",
   "execution_count": 19,
   "metadata": {},
   "outputs": [
    {
     "name": "stdout",
     "output_type": "stream",
     "text": [
      "--------非营运车辆--------\n"
     ]
    },
    {
     "ename": "KeyError",
     "evalue": "False",
     "output_type": "error",
     "traceback": [
      "\u001B[0;31m---------------------------------------------------------------------------\u001B[0m",
      "\u001B[0;31mKeyError\u001B[0m                                  Traceback (most recent call last)",
      "\u001B[0;32m/opt/anaconda3/lib/python3.8/site-packages/pandas/core/indexes/base.py\u001B[0m in \u001B[0;36mget_loc\u001B[0;34m(self, key, method, tolerance)\u001B[0m\n\u001B[1;32m   2894\u001B[0m             \u001B[0;32mtry\u001B[0m\u001B[0;34m:\u001B[0m\u001B[0;34m\u001B[0m\u001B[0;34m\u001B[0m\u001B[0m\n\u001B[0;32m-> 2895\u001B[0;31m                 \u001B[0;32mreturn\u001B[0m \u001B[0mself\u001B[0m\u001B[0;34m.\u001B[0m\u001B[0m_engine\u001B[0m\u001B[0;34m.\u001B[0m\u001B[0mget_loc\u001B[0m\u001B[0;34m(\u001B[0m\u001B[0mcasted_key\u001B[0m\u001B[0;34m)\u001B[0m\u001B[0;34m\u001B[0m\u001B[0;34m\u001B[0m\u001B[0m\n\u001B[0m\u001B[1;32m   2896\u001B[0m             \u001B[0;32mexcept\u001B[0m \u001B[0mKeyError\u001B[0m \u001B[0;32mas\u001B[0m \u001B[0merr\u001B[0m\u001B[0;34m:\u001B[0m\u001B[0;34m\u001B[0m\u001B[0;34m\u001B[0m\u001B[0m\n",
      "\u001B[0;32mpandas/_libs/index.pyx\u001B[0m in \u001B[0;36mpandas._libs.index.IndexEngine.get_loc\u001B[0;34m()\u001B[0m\n",
      "\u001B[0;32mpandas/_libs/index.pyx\u001B[0m in \u001B[0;36mpandas._libs.index.IndexEngine.get_loc\u001B[0;34m()\u001B[0m\n",
      "\u001B[0;32mpandas/_libs/hashtable_class_helper.pxi\u001B[0m in \u001B[0;36mpandas._libs.hashtable.PyObjectHashTable.get_item\u001B[0;34m()\u001B[0m\n",
      "\u001B[0;32mpandas/_libs/hashtable_class_helper.pxi\u001B[0m in \u001B[0;36mpandas._libs.hashtable.PyObjectHashTable.get_item\u001B[0;34m()\u001B[0m\n",
      "\u001B[0;31mKeyError\u001B[0m: False",
      "\nThe above exception was the direct cause of the following exception:\n",
      "\u001B[0;31mKeyError\u001B[0m                                  Traceback (most recent call last)",
      "\u001B[0;32m<ipython-input-19-b7056fcf6431>\u001B[0m in \u001B[0;36m<module>\u001B[0;34m\u001B[0m\n\u001B[1;32m      1\u001B[0m \u001B[0mprint\u001B[0m\u001B[0;34m(\u001B[0m\u001B[0;34m\"--------非营运车辆--------\"\u001B[0m\u001B[0;34m)\u001B[0m\u001B[0;34m\u001B[0m\u001B[0;34m\u001B[0m\u001B[0m\n\u001B[0;32m----> 2\u001B[0;31m \u001B[0mdf_no_yingyun_level\u001B[0m \u001B[0;34m=\u001B[0m \u001B[0mget_level\u001B[0m\u001B[0;34m(\u001B[0m\u001B[0mdf_no_yingyun_value\u001B[0m\u001B[0;34m)\u001B[0m\u001B[0;34m\u001B[0m\u001B[0;34m\u001B[0m\u001B[0m\n\u001B[0m\u001B[1;32m      3\u001B[0m \u001B[0mprint\u001B[0m\u001B[0;34m(\u001B[0m\u001B[0;34m\"--------营运车辆--------\"\u001B[0m\u001B[0;34m)\u001B[0m\u001B[0;34m\u001B[0m\u001B[0;34m\u001B[0m\u001B[0m\n\u001B[1;32m      4\u001B[0m \u001B[0mdf_yingyun_level\u001B[0m \u001B[0;34m=\u001B[0m \u001B[0mget_level\u001B[0m\u001B[0;34m(\u001B[0m\u001B[0mdf_yingyun_value\u001B[0m\u001B[0;34m)\u001B[0m\u001B[0;34m\u001B[0m\u001B[0;34m\u001B[0m\u001B[0m\n\u001B[1;32m      5\u001B[0m \u001B[0;34m\u001B[0m\u001B[0m\n",
      "\u001B[0;32m<ipython-input-16-4b22f7070464>\u001B[0m in \u001B[0;36mget_level\u001B[0;34m(df_vehicle)\u001B[0m\n\u001B[1;32m     15\u001B[0m         \u001B[0mdriver_source\u001B[0m \u001B[0;34m=\u001B[0m \u001B[0mdfi\u001B[0m\u001B[0;34m[\u001B[0m\u001B[0;34m\"驾驶人来源说明\"\u001B[0m\u001B[0;34m]\u001B[0m\u001B[0;34m\u001B[0m\u001B[0;34m\u001B[0m\u001B[0m\n\u001B[1;32m     16\u001B[0m         \u001B[0mdriver_address\u001B[0m \u001B[0;34m=\u001B[0m \u001B[0mdfi\u001B[0m\u001B[0;34m[\u001B[0m\u001B[0;34m\"联系住所详细地址\"\u001B[0m\u001B[0;34m]\u001B[0m\u001B[0;34m\u001B[0m\u001B[0;34m\u001B[0m\u001B[0m\n\u001B[0;32m---> 17\u001B[0;31m         \u001B[0mdf_res\u001B[0m\u001B[0;34m[\u001B[0m\u001B[0mdf_res\u001B[0m\u001B[0;34m[\u001B[0m\u001B[0;34m'当事人_驾驶证号'\u001B[0m \u001B[0;34m==\u001B[0m \u001B[0muid\u001B[0m\u001B[0;34m]\u001B[0m\u001B[0;34m]\u001B[0m\u001B[0;34m[\u001B[0m\u001B[0;34m'gender'\u001B[0m\u001B[0;34m]\u001B[0m \u001B[0;34m=\u001B[0m \u001B[0mgender\u001B[0m\u001B[0;34m\u001B[0m\u001B[0;34m\u001B[0m\u001B[0m\n\u001B[0m\u001B[1;32m     18\u001B[0m         \u001B[0mdf_res\u001B[0m\u001B[0;34m[\u001B[0m\u001B[0mdf_res\u001B[0m\u001B[0;34m[\u001B[0m\u001B[0;34m'当事人_驾驶证号'\u001B[0m \u001B[0;34m==\u001B[0m \u001B[0muid\u001B[0m\u001B[0;34m]\u001B[0m\u001B[0;34m]\u001B[0m\u001B[0;34m[\u001B[0m\u001B[0;34m'driver_age'\u001B[0m\u001B[0;34m]\u001B[0m \u001B[0;34m=\u001B[0m \u001B[0mdrive_age\u001B[0m\u001B[0;34m\u001B[0m\u001B[0;34m\u001B[0m\u001B[0m\n\u001B[1;32m     19\u001B[0m         \u001B[0mdf_res\u001B[0m\u001B[0;34m[\u001B[0m\u001B[0mdf_res\u001B[0m\u001B[0;34m[\u001B[0m\u001B[0;34m'当事人_驾驶证号'\u001B[0m \u001B[0;34m==\u001B[0m \u001B[0muid\u001B[0m\u001B[0;34m]\u001B[0m\u001B[0;34m]\u001B[0m\u001B[0;34m[\u001B[0m\u001B[0;34m'source'\u001B[0m\u001B[0;34m]\u001B[0m \u001B[0;34m=\u001B[0m \u001B[0mdriver_source\u001B[0m\u001B[0;34m\u001B[0m\u001B[0;34m\u001B[0m\u001B[0m\n",
      "\u001B[0;32m/opt/anaconda3/lib/python3.8/site-packages/pandas/core/frame.py\u001B[0m in \u001B[0;36m__getitem__\u001B[0;34m(self, key)\u001B[0m\n\u001B[1;32m   2900\u001B[0m             \u001B[0;32mif\u001B[0m \u001B[0mself\u001B[0m\u001B[0;34m.\u001B[0m\u001B[0mcolumns\u001B[0m\u001B[0;34m.\u001B[0m\u001B[0mnlevels\u001B[0m \u001B[0;34m>\u001B[0m \u001B[0;36m1\u001B[0m\u001B[0;34m:\u001B[0m\u001B[0;34m\u001B[0m\u001B[0;34m\u001B[0m\u001B[0m\n\u001B[1;32m   2901\u001B[0m                 \u001B[0;32mreturn\u001B[0m \u001B[0mself\u001B[0m\u001B[0;34m.\u001B[0m\u001B[0m_getitem_multilevel\u001B[0m\u001B[0;34m(\u001B[0m\u001B[0mkey\u001B[0m\u001B[0;34m)\u001B[0m\u001B[0;34m\u001B[0m\u001B[0;34m\u001B[0m\u001B[0m\n\u001B[0;32m-> 2902\u001B[0;31m             \u001B[0mindexer\u001B[0m \u001B[0;34m=\u001B[0m \u001B[0mself\u001B[0m\u001B[0;34m.\u001B[0m\u001B[0mcolumns\u001B[0m\u001B[0;34m.\u001B[0m\u001B[0mget_loc\u001B[0m\u001B[0;34m(\u001B[0m\u001B[0mkey\u001B[0m\u001B[0;34m)\u001B[0m\u001B[0;34m\u001B[0m\u001B[0;34m\u001B[0m\u001B[0m\n\u001B[0m\u001B[1;32m   2903\u001B[0m             \u001B[0;32mif\u001B[0m \u001B[0mis_integer\u001B[0m\u001B[0;34m(\u001B[0m\u001B[0mindexer\u001B[0m\u001B[0;34m)\u001B[0m\u001B[0;34m:\u001B[0m\u001B[0;34m\u001B[0m\u001B[0;34m\u001B[0m\u001B[0m\n\u001B[1;32m   2904\u001B[0m                 \u001B[0mindexer\u001B[0m \u001B[0;34m=\u001B[0m \u001B[0;34m[\u001B[0m\u001B[0mindexer\u001B[0m\u001B[0;34m]\u001B[0m\u001B[0;34m\u001B[0m\u001B[0;34m\u001B[0m\u001B[0m\n",
      "\u001B[0;32m/opt/anaconda3/lib/python3.8/site-packages/pandas/core/indexes/base.py\u001B[0m in \u001B[0;36mget_loc\u001B[0;34m(self, key, method, tolerance)\u001B[0m\n\u001B[1;32m   2895\u001B[0m                 \u001B[0;32mreturn\u001B[0m \u001B[0mself\u001B[0m\u001B[0;34m.\u001B[0m\u001B[0m_engine\u001B[0m\u001B[0;34m.\u001B[0m\u001B[0mget_loc\u001B[0m\u001B[0;34m(\u001B[0m\u001B[0mcasted_key\u001B[0m\u001B[0;34m)\u001B[0m\u001B[0;34m\u001B[0m\u001B[0;34m\u001B[0m\u001B[0m\n\u001B[1;32m   2896\u001B[0m             \u001B[0;32mexcept\u001B[0m \u001B[0mKeyError\u001B[0m \u001B[0;32mas\u001B[0m \u001B[0merr\u001B[0m\u001B[0;34m:\u001B[0m\u001B[0;34m\u001B[0m\u001B[0;34m\u001B[0m\u001B[0m\n\u001B[0;32m-> 2897\u001B[0;31m                 \u001B[0;32mraise\u001B[0m \u001B[0mKeyError\u001B[0m\u001B[0;34m(\u001B[0m\u001B[0mkey\u001B[0m\u001B[0;34m)\u001B[0m \u001B[0;32mfrom\u001B[0m \u001B[0merr\u001B[0m\u001B[0;34m\u001B[0m\u001B[0;34m\u001B[0m\u001B[0m\n\u001B[0m\u001B[1;32m   2898\u001B[0m \u001B[0;34m\u001B[0m\u001B[0m\n\u001B[1;32m   2899\u001B[0m         \u001B[0;32mif\u001B[0m \u001B[0mtolerance\u001B[0m \u001B[0;32mis\u001B[0m \u001B[0;32mnot\u001B[0m \u001B[0;32mNone\u001B[0m\u001B[0;34m:\u001B[0m\u001B[0;34m\u001B[0m\u001B[0;34m\u001B[0m\u001B[0m\n",
      "\u001B[0;31mKeyError\u001B[0m: False"
     ]
    }
   ],
   "source": [
    "print(\"--------非营运车辆--------\")\n",
    "df_no_yingyun_level = get_level(df_no_yingyun_value)\n",
    "print(\"--------营运车辆--------\")\n",
    "df_yingyun_level = get_level(df_yingyun_value)"
   ]
  },
  {
   "cell_type": "code",
   "execution_count": null,
   "outputs": [],
   "source": [
    "df_no_yingyun_level.loc[df_no_yingyun_level.isin([np.nan]).any(axis=1), 'fine'] = 0\n",
    "df_no_yingyun_level[df_no_yingyun_level.isin([np.nan]).any(axis=1)]"
   ],
   "metadata": {
    "collapsed": false,
    "pycharm": {
     "name": "#%%\n"
    }
   }
  },
  {
   "cell_type": "code",
   "execution_count": null,
   "metadata": {},
   "outputs": [],
   "source": [
    "# 数据概况\n",
    "import matplotlib.pyplot as plt\n",
    "\n",
    "fig = plt.figure()\n",
    "fig.tight_layout()\n",
    "\n",
    "\n",
    "# 输入的是一个df，主键是每个司机的驾驶证号id\n",
    "# 得到这个司机群体的信息\n",
    "def analyseDF(df_input):\n",
    "    plt.figure(figsize=(40, 40))\n",
    "\n",
    "    # 年龄组成\n",
    "    ages = df_input['age'].value_counts()\n",
    "    plt.subplot(4, 1, 1)\n",
    "    df_input['age'].plot(kind='hist')\n",
    "    plt.title(\"Count of age\")\n",
    "\n",
    "    # print(ages)\n",
    "    # 外地or本地\n",
    "    is_local = df_input['is_local'].value_counts()\n",
    "    print(is_local)\n",
    "    # 准驾车型\n",
    "    trans_codes = df_input['机动车_交通方式说明'].value_counts()\n",
    "    print(trans_codes)\n",
    "\n",
    "    # 违法行为记分数\n",
    "    scores = df_input['违法行为记分数'].value_counts()\n",
    "    print(scores)\n",
    "\n",
    "    type_counts = df_input['违法行为_违法小类'].value_counts()\n",
    "    print(type_counts.head(10))\n",
    "    plt.subplot(4, 1, 2)\n",
    "    word_cloud(type_counts)\n",
    "\n",
    "    detail_count = df_input['违法行为_违法描述'].value_counts()\n",
    "    print(detail_count.head(10))\n",
    "    plt.subplot(4, 1, 3)\n",
    "    word_cloud(detail_count)\n",
    "\n",
    "    # 计算违章时间段统计\n",
    "\n",
    "    df_input['违法时间'] = pd.to_datetime(df_input['违法时间'])\n",
    "    df_input['违法时间'] = pd.to_datetime(df_input['违法时间'])\n",
    "    df_date = df_input.sort_values('违法时间')\n",
    "    df_date = df_date.set_index('违法时间')\n",
    "    # print(df_date.truncate(before='2019',after='2022-1').head())\n",
    "    df_date_col = df_input['违法时间']\n",
    "    df_date_col['hour'] = df_input['违法时间'].dt.hour\n",
    "    df_date_col['minute'] = df_input['违法时间'].dt.minute\n",
    "    a = df_date_col['hour'].value_counts().sort_index()\n",
    "    plt.subplot(4, 1, 4)\n",
    "    a.plot(kind='bar', x='Time')\n",
    "    plt.title(\"Count of Time\")\n",
    "    plt.show()\n",
    "\n",
    "\n",
    "# 词云计算\n",
    "# 输入变量格式为value_counts的结果\n",
    "from wordcloud import WordCloud\n",
    "\n",
    "\n",
    "def word_cloud(word_counts):\n",
    "    counts = {}\n",
    "    for word in word_counts.index:\n",
    "        counts[word] = word_counts[word]\n",
    "    wordcloud = WordCloud(background_color='white', font_path='/System/Library/Fonts/Hiragino Sans GB.ttc', width=1000,\n",
    "                          height=1000,\n",
    "                          margin=2)\n",
    "    wordcloud.generate_from_frequencies(counts)\n",
    "    # 显示图片\n",
    "    plt.imshow(wordcloud)"
   ]
  },
  {
   "cell_type": "code",
   "execution_count": null,
   "metadata": {},
   "outputs": [],
   "source": [
    "analyseDF(df_no_yingyun_value)\n",
    "analyseDF(df_yingyun_value)"
   ]
  },
  {
   "cell_type": "markdown",
   "metadata": {},
   "source": [
    "### 聚类操作"
   ]
  },
  {
   "cell_type": "code",
   "execution_count": null,
   "metadata": {},
   "outputs": [],
   "source": [
    "# k-mean聚类\n",
    "# 数据标准化后的聚类计算\n",
    "from sklearn.cluster import KMeans\n",
    "\n",
    "\n",
    "def Kmeans(df_input, list_variables):\n",
    "    X = df_input[list_variables].values\n",
    "    k_means = KMeans(n_clusters=3, random_state=0).fit(X)\n",
    "\n",
    "    df_input['label'] = k_means.labels_\n",
    "    print('聚类的个数')\n",
    "    print(df_input['label'].value_counts())\n",
    "\n",
    "    label_pred = k_means.labels_\n",
    "    centroids = k_means.cluster_centers_\n",
    "    inertia = k_means.inertia_\n",
    "    length, dim = X.shape\n",
    "    df_center = pd.DataFrame(centroids, columns=list_variables)\n",
    "    display(df_center)\n",
    "    return df_input\n",
    "\n",
    "\n",
    "def choose_k(df_input, list_variables):\n",
    "    SSE = []  # 存放每次结果的误差平方和\n",
    "    for k in range(1, 9):\n",
    "        estimator = KMeans(n_clusters=k)  # 构造聚类器\n",
    "        estimator.fit(df_input[list_variables])\n",
    "        SSE.append(estimator.inertia_)\n",
    "    X = range(1, 9)\n",
    "    plt.xlabel('k')\n",
    "    plt.ylabel('SSE')\n",
    "    plt.plot(X, SSE, 'o-')\n",
    "    plt.show()\n"
   ]
  },
  {
   "cell_type": "code",
   "execution_count": null,
   "metadata": {},
   "outputs": [],
   "source": [
    "print(df_no_yingyun_level.columns)"
   ]
  },
  {
   "cell_type": "markdown",
   "source": [
    "非营运车辆结果"
   ],
   "metadata": {
    "collapsed": false
   }
  },
  {
   "cell_type": "code",
   "execution_count": null,
   "metadata": {},
   "outputs": [],
   "source": [
    "# list_variables = ['age', 'is_local', 'trans_code', 'occur_prob', 'severity', 'score',\n",
    "#                   'accident', 'counts']\n",
    "\n",
    "list_variables = ['age', 'occur_prob', 'severity', 'score', 'counts']"
   ]
  },
  {
   "cell_type": "code",
   "execution_count": null,
   "outputs": [],
   "source": [
    "choose_k(df_no_yingyun_level, list_variables)"
   ],
   "metadata": {
    "collapsed": false,
    "pycharm": {
     "name": "#%%\n"
    }
   }
  },
  {
   "cell_type": "code",
   "execution_count": null,
   "outputs": [],
   "source": [
    "cluster_no_yingyun = Kmeans(df_no_yingyun_level, list_variables)"
   ],
   "metadata": {
    "collapsed": false,
    "pycharm": {
     "name": "#%%\n"
    }
   }
  },
  {
   "cell_type": "markdown",
   "source": [
    "营运车辆结果"
   ],
   "metadata": {
    "collapsed": false,
    "pycharm": {
     "name": "#%% md\n"
    }
   }
  },
  {
   "cell_type": "code",
   "execution_count": null,
   "outputs": [],
   "source": [
    "choose_k(df_yingyun_level, list_variables)"
   ],
   "metadata": {
    "collapsed": false,
    "pycharm": {
     "name": "#%%\n"
    }
   }
  },
  {
   "cell_type": "code",
   "execution_count": null,
   "outputs": [],
   "source": [
    "cluster_yingyun = Kmeans(df_yingyun_level, list_variables)"
   ],
   "metadata": {
    "collapsed": false,
    "pycharm": {
     "name": "#%%\n"
    }
   }
  },
  {
   "cell_type": "code",
   "execution_count": null,
   "outputs": [],
   "source": [
    "cluster_no_yingyun.to_csv(\"/Users/jiarui/Study/交通事故/data/output/df_no_yingyun_cluster_output.csv\")\n",
    "cluster_yingyun.to_csv(\"/Users/jiarui/Study/交通事故/data/output/df_yingyun_cluster_output.csv\")"
   ],
   "metadata": {
    "collapsed": false,
    "pycharm": {
     "name": "#%%\n"
    }
   }
  },
  {
   "cell_type": "code",
   "execution_count": null,
   "outputs": [],
   "source": [
    "def analyse_clusters(df_cluster, df_all_info):\n",
    "    for i in range(0, 3):\n",
    "        print('---------------------------k = {}----------------------'.format(i))\n",
    "        dfi = df_cluster[df_cluster['label'] == i]\n",
    "        list_ids = list(dfi.index)\n",
    "        print('共有违法者{}人'.format(len(list_ids)))\n",
    "        list_analyse = ['当事人_驾驶证号', '机动车_交通方式说明', '违法行为_违法小类', '机动车_号牌号码', '违法时间', '违法行为_违法描述', 'trans_code',\n",
    "                        'is_local',\n",
    "                        'age', 'severity']\n",
    "        df_analyse = df_all_info[df_all_info['当事人_驾驶证号'].isin(list_ids)]\n",
    "        print(df_analyse['当事人_驾驶证号'].value_counts())\n",
    "        print('共有违法记录{}条'.format(len(df_analyse)))\n",
    "        df_analyse['机动车_号牌号码'] = df_analyse['机动车_号牌号码'].str[0:2]\n",
    "        analyseDF(df_analyse)"
   ],
   "metadata": {
    "collapsed": false,
    "pycharm": {
     "name": "#%%\n"
    }
   }
  },
  {
   "cell_type": "markdown",
   "source": [
    "非营运"
   ],
   "metadata": {
    "collapsed": false,
    "pycharm": {
     "name": "#%% md\n"
    }
   }
  },
  {
   "cell_type": "code",
   "execution_count": null,
   "outputs": [],
   "source": [
    "analyse_clusters(cluster_no_yingyun, df_no_yingyun_value)"
   ],
   "metadata": {
    "collapsed": false,
    "pycharm": {
     "name": "#%%\n"
    }
   }
  },
  {
   "cell_type": "markdown",
   "source": [
    "营运"
   ],
   "metadata": {
    "collapsed": false,
    "pycharm": {
     "name": "#%% md\n"
    }
   }
  },
  {
   "cell_type": "code",
   "execution_count": null,
   "outputs": [],
   "source": [
    "analyse_clusters(cluster_yingyun, df_yingyun_value)"
   ],
   "metadata": {
    "collapsed": false,
    "pycharm": {
     "name": "#%%\n"
    }
   }
  },
  {
   "cell_type": "markdown",
   "source": [
    "制作词云图"
   ],
   "metadata": {
    "collapsed": false,
    "pycharm": {
     "name": "#%% md\n"
    }
   }
  },
  {
   "cell_type": "code",
   "execution_count": null,
   "outputs": [],
   "source": [
    "import jieba\n",
    "\n",
    "df_no_yingyun_value = pd.read_csv(\"/Users/jiarui/Study/交通事故/data/output/df_no_yingyun_value.csv\")\n",
    "\n",
    "list_word_input = list(df_no_yingyun_value['机动车_交通方式说明'])\n",
    "\n",
    "\n",
    "def word_cloud(list_words):\n",
    "    all_words = []\n",
    "    for i in list_words:\n",
    "        words = jieba.lcut(i)\n",
    "        all_words.append(words)\n",
    "    print(all_words)\n",
    "\n",
    "\n",
    "word_cloud(list_word_input)\n",
    "\n"
   ],
   "metadata": {
    "collapsed": false,
    "pycharm": {
     "name": "#%%\n"
    }
   }
  }
 ],
 "metadata": {
  "kernelspec": {
   "name": "python3",
   "language": "python",
   "display_name": "Python 3"
  },
  "language_info": {
   "codemirror_mode": {
    "name": "ipython",
    "version": 3
   },
   "file_extension": ".py",
   "mimetype": "text/x-python",
   "name": "python",
   "nbconvert_exporter": "python",
   "pygments_lexer": "ipython3",
   "version": "3.8.5"
  }
 },
 "nbformat": 4,
 "nbformat_minor": 4
}