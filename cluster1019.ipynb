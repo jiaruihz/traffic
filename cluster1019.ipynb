{
 "cells": [
  {
   "cell_type": "markdown",
   "metadata": {
    "collapsed": true,
    "pycharm": {
     "name": "#%% md\n"
    }
   },
   "source": [
    "## 10.19对于更新过的参数重新进行聚类分析"
   ]
  },
  {
   "cell_type": "code",
   "execution_count": 2,
   "outputs": [],
   "source": [
    "import pandas as pd\n",
    "from IPython.display import display\n",
    "import numpy as np\n",
    "\n",
    "from matplotlib import pyplot as plt"
   ],
   "metadata": {
    "collapsed": false,
    "pycharm": {
     "name": "#%%\n"
    }
   }
  },
  {
   "cell_type": "code",
   "execution_count": null,
   "outputs": [],
   "source": [],
   "metadata": {
    "collapsed": false,
    "pycharm": {
     "name": "#%%\n"
    }
   }
  },
  {
   "cell_type": "code",
   "execution_count": 6,
   "outputs": [
    {
     "data": {
      "text/plain": "Index(['Unnamed: 0', 'index', '唯一标识', '违法时间', '行政区划', '当事人_姓名', '当事人_驾驶证号',\n       '当事人_发证机关', '当事人_准驾车型', '机动车_号牌种类', '机动车_号牌种类说明', '机动车_使用性质说明',\n       '机动车_号牌号码', '机动车_交通方式', '机动车_交通方式说明', '违法地点', '违法地点_道路类型', '违法地点_路段代码',\n       '违法地点_地点米数', '违法地点_违法地址', '违法地点_公路行政等级', '违法行为', '违法行为_违法大类',\n       '违法行为_违法小类', '违法行为_违法描述', '违法行为_事故等级', '违法行为记分数', '违法行为罚款金额',\n       '违法行为_实测值', '违法行为_标准值', 'trans_code', 'age', 'occur_prob', 'severity',\n       'is_local'],\n      dtype='object')"
     },
     "execution_count": 6,
     "metadata": {},
     "output_type": "execute_result"
    }
   ],
   "source": [
    "data_path = \"/Users/jiarui/Study/交通事故/data/vehicle_actions.csv\"\n",
    "df_vehicle = pd.read_csv(data_path)\n",
    "df_vehicle.columns"
   ],
   "metadata": {
    "collapsed": false,
    "pycharm": {
     "name": "#%%\n"
    }
   }
  },
  {
   "cell_type": "markdown",
   "source": [
    "### 聚类特征变量选择\n",
    "基本属性：本地/外来，驾驶车型、年龄；\n",
    "\n",
    "行为属性：个人在一年内的违章次数、扣分平均数、违章行为造成事故的可能性、潜在的后果严重性、事故等级等；"
   ],
   "metadata": {
    "collapsed": false,
    "pycharm": {
     "name": "#%% md\n"
    }
   }
  },
  {
   "cell_type": "code",
   "execution_count": 50,
   "outputs": [
    {
     "name": "stdout",
     "output_type": "stream",
     "text": [
      "1    70308\n",
      "2    62383\n",
      "3     8787\n",
      "5     7161\n",
      "4     6113\n",
      "6     3257\n",
      "Name: trans_code, dtype: int64\n"
     ]
    }
   ],
   "source": [
    "pd.set_option('display.max_rows', 200)\n",
    "\n",
    "count = df_vehicle['trans_code'].value_counts()\n",
    "print(count.head(100))"
   ],
   "metadata": {
    "collapsed": false,
    "pycharm": {
     "name": "#%%\n"
    }
   }
  },
  {
   "cell_type": "code",
   "execution_count": 14,
   "outputs": [
    {
     "name": "stdout",
     "output_type": "stream",
     "text": [
      "Series([], dtype: int64)\n"
     ]
    }
   ],
   "source": [
    "# 给交通方式编码\n",
    "df_vehicle['trans_code'] = 0\n",
    "# print(df_vehicle['机动车_交通方式说明'].str.contains('小型轿车'))\n",
    "list_1 = ['小型轿车', '面包车']\n",
    "df_vehicle.loc[df_vehicle['机动车_交通方式说明'].str.contains('小型轿车|面包车'), 'trans_code'] = 1\n",
    "\n",
    "list_2 = ['货车', '大型轿车', '作业车', '大型专用校车']\n",
    "df_vehicle.loc[df_vehicle['机动车_交通方式说明'].str.contains('货车|大型轿车|作业车|大型专用校车|有轨电车|手扶变形运输机'), 'trans_code'] = 2\n",
    "\n",
    "list_3 = ['牵引车', '挂车']\n",
    "df_vehicle.loc[df_vehicle['机动车_交通方式说明'].str.contains('牵引车|挂车|轮式挖掘机械'), 'trans_code'] = 3\n",
    "\n",
    "list_4 = ['客车']\n",
    "df_vehicle.loc[df_vehicle['机动车_交通方式说明'].str.contains('客车'), 'trans_code'] = 4\n",
    "\n",
    "list_5 = ['摩托车']\n",
    "df_vehicle.loc[df_vehicle['机动车_交通方式说明'].str.contains('摩托车'), 'trans_code'] = 5\n",
    "\n",
    "df_vehicle.loc[df_vehicle['机动车_交通方式说明'].str.contains('微型轿车|三轮汽车|残疾人专用车|助力自行车|手推车|其它|拖拉机'), 'trans_code'] = 6\n",
    "\n",
    "print(df_vehicle[df_vehicle['trans_code'] == 0][['机动车_交通方式说明', '机动车_交通方式']].value_counts())"
   ],
   "metadata": {
    "collapsed": false,
    "pycharm": {
     "name": "#%%\n"
    }
   }
  },
  {
   "cell_type": "code",
   "execution_count": 65,
   "outputs": [],
   "source": [
    "df_vehicle.loc[df_vehicle['违法行为_违法小类'] == '违反交通信号灯', 'severity'] = 5\n",
    "df_vehicle.loc[df_vehicle['违法行为_违法小类'] == '违反交通信号灯', 'occur_prob'] = 5\n"
   ],
   "metadata": {
    "collapsed": false,
    "pycharm": {
     "name": "#%%\n"
    }
   }
  },
  {
   "cell_type": "code",
   "execution_count": 19,
   "outputs": [
    {
     "data": {
      "text/plain": "                     age  is_local  trans_code  occur_prob  severity  score  \\\n当事人_驾驶证号                                                                      \n110101197110121532  42.0       2.0         1.0         1.0       1.0    0.0   \n11010119720630005X  41.0       1.0         1.0         1.0       1.0    0.0   \n110101197211232039  41.0       1.0         1.0         1.0       1.0    0.0   \n11010119740316101X  39.0       1.0         4.0         3.0       3.0    0.0   \n110102195901261133  54.0       1.0         4.0         1.0       1.0    3.0   \n...                  ...       ...         ...         ...       ...    ...   \n654301197712100819  36.0       1.0         1.0         1.0       1.0    0.0   \n654323196502241713  48.0       2.0         1.0         4.0       4.0    0.0   \n654323198306140017  30.0       2.0         1.0         1.0       1.0    1.0   \n659001197008121219  43.0       1.0         1.0         1.0       1.0    0.0   \n659001197708260316  36.0       1.0         1.0         3.0       2.5    0.0   \n\n                     fine  accident  counts  \n当事人_驾驶证号                                     \n110101197110121532  100.0       0.0       1  \n11010119720630005X   50.0       0.0       1  \n110101197211232039   50.0       0.0       1  \n11010119740316101X  100.0       0.0       1  \n110102195901261133  100.0       0.0       1  \n...                   ...       ...     ...  \n654301197712100819  100.0       0.0       1  \n654323196502241713  150.0       0.0       1  \n654323198306140017   20.0       0.0       2  \n659001197008121219  100.0       0.0       1  \n659001197708260316  100.0       0.0       2  \n\n[119750 rows x 9 columns]",
      "text/html": "<div>\n<style scoped>\n    .dataframe tbody tr th:only-of-type {\n        vertical-align: middle;\n    }\n\n    .dataframe tbody tr th {\n        vertical-align: top;\n    }\n\n    .dataframe thead th {\n        text-align: right;\n    }\n</style>\n<table border=\"1\" class=\"dataframe\">\n  <thead>\n    <tr style=\"text-align: right;\">\n      <th></th>\n      <th>age</th>\n      <th>is_local</th>\n      <th>trans_code</th>\n      <th>occur_prob</th>\n      <th>severity</th>\n      <th>score</th>\n      <th>fine</th>\n      <th>accident</th>\n      <th>counts</th>\n    </tr>\n    <tr>\n      <th>当事人_驾驶证号</th>\n      <th></th>\n      <th></th>\n      <th></th>\n      <th></th>\n      <th></th>\n      <th></th>\n      <th></th>\n      <th></th>\n      <th></th>\n    </tr>\n  </thead>\n  <tbody>\n    <tr>\n      <th>110101197110121532</th>\n      <td>42.0</td>\n      <td>2.0</td>\n      <td>1.0</td>\n      <td>1.0</td>\n      <td>1.0</td>\n      <td>0.0</td>\n      <td>100.0</td>\n      <td>0.0</td>\n      <td>1</td>\n    </tr>\n    <tr>\n      <th>11010119720630005X</th>\n      <td>41.0</td>\n      <td>1.0</td>\n      <td>1.0</td>\n      <td>1.0</td>\n      <td>1.0</td>\n      <td>0.0</td>\n      <td>50.0</td>\n      <td>0.0</td>\n      <td>1</td>\n    </tr>\n    <tr>\n      <th>110101197211232039</th>\n      <td>41.0</td>\n      <td>1.0</td>\n      <td>1.0</td>\n      <td>1.0</td>\n      <td>1.0</td>\n      <td>0.0</td>\n      <td>50.0</td>\n      <td>0.0</td>\n      <td>1</td>\n    </tr>\n    <tr>\n      <th>11010119740316101X</th>\n      <td>39.0</td>\n      <td>1.0</td>\n      <td>4.0</td>\n      <td>3.0</td>\n      <td>3.0</td>\n      <td>0.0</td>\n      <td>100.0</td>\n      <td>0.0</td>\n      <td>1</td>\n    </tr>\n    <tr>\n      <th>110102195901261133</th>\n      <td>54.0</td>\n      <td>1.0</td>\n      <td>4.0</td>\n      <td>1.0</td>\n      <td>1.0</td>\n      <td>3.0</td>\n      <td>100.0</td>\n      <td>0.0</td>\n      <td>1</td>\n    </tr>\n    <tr>\n      <th>...</th>\n      <td>...</td>\n      <td>...</td>\n      <td>...</td>\n      <td>...</td>\n      <td>...</td>\n      <td>...</td>\n      <td>...</td>\n      <td>...</td>\n      <td>...</td>\n    </tr>\n    <tr>\n      <th>654301197712100819</th>\n      <td>36.0</td>\n      <td>1.0</td>\n      <td>1.0</td>\n      <td>1.0</td>\n      <td>1.0</td>\n      <td>0.0</td>\n      <td>100.0</td>\n      <td>0.0</td>\n      <td>1</td>\n    </tr>\n    <tr>\n      <th>654323196502241713</th>\n      <td>48.0</td>\n      <td>2.0</td>\n      <td>1.0</td>\n      <td>4.0</td>\n      <td>4.0</td>\n      <td>0.0</td>\n      <td>150.0</td>\n      <td>0.0</td>\n      <td>1</td>\n    </tr>\n    <tr>\n      <th>654323198306140017</th>\n      <td>30.0</td>\n      <td>2.0</td>\n      <td>1.0</td>\n      <td>1.0</td>\n      <td>1.0</td>\n      <td>1.0</td>\n      <td>20.0</td>\n      <td>0.0</td>\n      <td>2</td>\n    </tr>\n    <tr>\n      <th>659001197008121219</th>\n      <td>43.0</td>\n      <td>1.0</td>\n      <td>1.0</td>\n      <td>1.0</td>\n      <td>1.0</td>\n      <td>0.0</td>\n      <td>100.0</td>\n      <td>0.0</td>\n      <td>1</td>\n    </tr>\n    <tr>\n      <th>659001197708260316</th>\n      <td>36.0</td>\n      <td>1.0</td>\n      <td>1.0</td>\n      <td>3.0</td>\n      <td>2.5</td>\n      <td>0.0</td>\n      <td>100.0</td>\n      <td>0.0</td>\n      <td>2</td>\n    </tr>\n  </tbody>\n</table>\n<p>119750 rows × 9 columns</p>\n</div>"
     },
     "execution_count": 19,
     "metadata": {},
     "output_type": "execute_result"
    },
    {
     "data": {
      "text/plain": "<Figure size 432x288 with 1 Axes>",
      "image/png": "[encoded data removed]"
     },
     "metadata": {
      "needs_background": "light"
     },
     "output_type": "display_data"
    }
   ],
   "source": [
    "#计算指标\n",
    "df_calculate = df_vehicle[\n",
    "    ['当事人_驾驶证号', 'age', 'is_local', 'trans_code', 'occur_prob', 'severity', '违法行为记分数', '违法行为罚款金额', '违法行为_事故等级']]\n",
    "df_res = df_calculate.groupby('当事人_驾驶证号').agg('mean')\n",
    "df_res.columns = ['age', 'is_local', 'trans_code', 'occur_prob', 'severity', 'score', 'fine', 'accident']\n",
    "df_res.index_name = '当事人_驾驶证号'\n",
    "df_res['counts'] = df_calculate['当事人_驾驶证号'].value_counts()\n",
    "df_res[df_res['counts'] < 20]['counts'].plot(kind='hist')\n",
    "# print(df_res.head(1000))\n",
    "df_res"
   ],
   "metadata": {
    "collapsed": false,
    "pycharm": {
     "name": "#%% 选取聚类的特征变量\n"
    }
   }
  },
  {
   "cell_type": "code",
   "execution_count": 22,
   "outputs": [
    {
     "data": {
      "text/plain": "<AxesSubplot:ylabel='Frequency'>"
     },
     "execution_count": 22,
     "metadata": {},
     "output_type": "execute_result"
    },
    {
     "data": {
      "text/plain": "<Figure size 432x288 with 1 Axes>",
      "image/png": "[encoded data removed]"
     },
     "metadata": {
      "needs_background": "light"
     },
     "output_type": "display_data"
    }
   ],
   "source": [
    "df_res['age'].plot(kind='hist')\n"
   ],
   "metadata": {
    "collapsed": false,
    "pycharm": {
     "name": "#%%\n"
    }
   }
  },
  {
   "cell_type": "code",
   "execution_count": 34,
   "outputs": [
    {
     "data": {
      "text/plain": "                    age  is_local  trans_code  occur_prob  severity  score  \\\nid                                                                           \n110101197110121532  3.0       2.0         1.0         1.0       1.0    1.0   \n11010119720630005X  3.0       1.0         1.0         1.0       1.0    1.0   \n110101197211232039  3.0       1.0         1.0         1.0       1.0    1.0   \n11010119740316101X  3.0       1.0         4.0         3.0       3.0    1.0   \n110102195901261133  4.0       1.0         4.0         1.0       1.0    5.0   \n...                 ...       ...         ...         ...       ...    ...   \n654301197712100819  3.0       1.0         1.0         1.0       1.0    1.0   \n654323196502241713  4.0       2.0         1.0         4.0       4.0    1.0   \n654323198306140017  2.0       2.0         1.0         1.0       1.0    3.0   \n659001197008121219  3.0       1.0         1.0         1.0       1.0    1.0   \n659001197708260316  3.0       1.0         1.0         3.0       2.0    1.0   \n\n                    fine  accident  counts  \nid                                          \n110101197110121532   3.0       1.0       1  \n11010119720630005X   2.0       1.0       1  \n110101197211232039   2.0       1.0       1  \n11010119740316101X   3.0       1.0       1  \n110102195901261133   3.0       1.0       1  \n...                  ...       ...     ...  \n654301197712100819   3.0       1.0       1  \n654323196502241713   4.0       1.0       1  \n654323198306140017   1.0       1.0       2  \n659001197008121219   3.0       1.0       1  \n659001197708260316   3.0       1.0       2  \n\n[119750 rows x 9 columns]",
      "text/html": "<div>\n<style scoped>\n    .dataframe tbody tr th:only-of-type {\n        vertical-align: middle;\n    }\n\n    .dataframe tbody tr th {\n        vertical-align: top;\n    }\n\n    .dataframe thead th {\n        text-align: right;\n    }\n</style>\n<table border=\"1\" class=\"dataframe\">\n  <thead>\n    <tr style=\"text-align: right;\">\n      <th></th>\n      <th>age</th>\n      <th>is_local</th>\n      <th>trans_code</th>\n      <th>occur_prob</th>\n      <th>severity</th>\n      <th>score</th>\n      <th>fine</th>\n      <th>accident</th>\n      <th>counts</th>\n    </tr>\n    <tr>\n      <th>id</th>\n      <th></th>\n      <th></th>\n      <th></th>\n      <th></th>\n      <th></th>\n      <th></th>\n      <th></th>\n      <th></th>\n      <th></th>\n    </tr>\n  </thead>\n  <tbody>\n    <tr>\n      <th>110101197110121532</th>\n      <td>3.0</td>\n      <td>2.0</td>\n      <td>1.0</td>\n      <td>1.0</td>\n      <td>1.0</td>\n      <td>1.0</td>\n      <td>3.0</td>\n      <td>1.0</td>\n      <td>1</td>\n    </tr>\n    <tr>\n      <th>11010119720630005X</th>\n      <td>3.0</td>\n      <td>1.0</td>\n      <td>1.0</td>\n      <td>1.0</td>\n      <td>1.0</td>\n      <td>1.0</td>\n      <td>2.0</td>\n      <td>1.0</td>\n      <td>1</td>\n    </tr>\n    <tr>\n      <th>110101197211232039</th>\n      <td>3.0</td>\n      <td>1.0</td>\n      <td>1.0</td>\n      <td>1.0</td>\n      <td>1.0</td>\n      <td>1.0</td>\n      <td>2.0</td>\n      <td>1.0</td>\n      <td>1</td>\n    </tr>\n    <tr>\n      <th>11010119740316101X</th>\n      <td>3.0</td>\n      <td>1.0</td>\n      <td>4.0</td>\n      <td>3.0</td>\n      <td>3.0</td>\n      <td>1.0</td>\n      <td>3.0</td>\n      <td>1.0</td>\n      <td>1</td>\n    </tr>\n    <tr>\n      <th>110102195901261133</th>\n      <td>4.0</td>\n      <td>1.0</td>\n      <td>4.0</td>\n      <td>1.0</td>\n      <td>1.0</td>\n      <td>5.0</td>\n      <td>3.0</td>\n      <td>1.0</td>\n      <td>1</td>\n    </tr>\n    <tr>\n      <th>...</th>\n      <td>...</td>\n      <td>...</td>\n      <td>...</td>\n      <td>...</td>\n      <td>...</td>\n      <td>...</td>\n      <td>...</td>\n      <td>...</td>\n      <td>...</td>\n    </tr>\n    <tr>\n      <th>654301197712100819</th>\n      <td>3.0</td>\n      <td>1.0</td>\n      <td>1.0</td>\n      <td>1.0</td>\n      <td>1.0</td>\n      <td>1.0</td>\n      <td>3.0</td>\n      <td>1.0</td>\n      <td>1</td>\n    </tr>\n    <tr>\n      <th>654323196502241713</th>\n      <td>4.0</td>\n      <td>2.0</td>\n      <td>1.0</td>\n      <td>4.0</td>\n      <td>4.0</td>\n      <td>1.0</td>\n      <td>4.0</td>\n      <td>1.0</td>\n      <td>1</td>\n    </tr>\n    <tr>\n      <th>654323198306140017</th>\n      <td>2.0</td>\n      <td>2.0</td>\n      <td>1.0</td>\n      <td>1.0</td>\n      <td>1.0</td>\n      <td>3.0</td>\n      <td>1.0</td>\n      <td>1.0</td>\n      <td>2</td>\n    </tr>\n    <tr>\n      <th>659001197008121219</th>\n      <td>3.0</td>\n      <td>1.0</td>\n      <td>1.0</td>\n      <td>1.0</td>\n      <td>1.0</td>\n      <td>1.0</td>\n      <td>3.0</td>\n      <td>1.0</td>\n      <td>1</td>\n    </tr>\n    <tr>\n      <th>659001197708260316</th>\n      <td>3.0</td>\n      <td>1.0</td>\n      <td>1.0</td>\n      <td>3.0</td>\n      <td>2.0</td>\n      <td>1.0</td>\n      <td>3.0</td>\n      <td>1.0</td>\n      <td>2</td>\n    </tr>\n  </tbody>\n</table>\n<p>119750 rows × 9 columns</p>\n</div>"
     },
     "metadata": {},
     "output_type": "display_data"
    }
   ],
   "source": [
    "# 如果只是df_level=df_res 是浅拷贝，和引用类似，会导致修改原来的值\n",
    "df_level = df_res.copy(deep=True)\n",
    "df_level = df_level.round(0)\n",
    "list_col = df_res.columns\n",
    "# list_col = ['counts']\n",
    "for col in list_col:\n",
    "    if col == 'id' or col == 'trans_code' or col == 'is_local':\n",
    "        continue\n",
    "    dfi = df_level[col].copy(deep=True)\n",
    "    Q1 = df_level[col].quantile(0.25)\n",
    "    Q2 = df_level[col].quantile(0.5)\n",
    "    Q3 = df_level[col].quantile(0.75)\n",
    "    IQR = Q3 - Q1\n",
    "    Max = Q3 + IQR * 1.5\n",
    "    Min = Q1 - IQR * 1.5\n",
    "    if col == 'counts':\n",
    "        df_level.loc[dfi >= 5, col] = 5\n",
    "    elif col == 'score':\n",
    "        df_level.loc[dfi <= 0.5, col] = 1\n",
    "        df_level.loc[(dfi < 1) & (dfi > 0.5), col] = 2\n",
    "        df_level.loc[(dfi < 2) & (dfi >= 1), col] = 3\n",
    "        df_level.loc[(dfi < 3) & (dfi >= 2), col] = 4\n",
    "        df_level.loc[(dfi < 6) & (dfi >= 3), col] = 5\n",
    "        df_level.loc[dfi >= 6, col] = 6\n",
    "    elif col == 'fine':\n",
    "        df_level.loc[dfi < 50, col] = 1\n",
    "        df_level.loc[(dfi < 100) & (dfi >= 50), col] = 2\n",
    "        df_level.loc[(dfi < 150) & (dfi >= 100), col] = 3\n",
    "        df_level.loc[(dfi < 200) & (dfi >= 150), col] = 4\n",
    "        df_level.loc[(dfi < 300) & (dfi >= 200), col] = 5\n",
    "        df_level.loc[dfi >= 300, col] = 6\n",
    "    elif col == 'age':\n",
    "        df_level.loc[dfi <= 25, col] = 1\n",
    "        df_level.loc[(dfi < 35) & (dfi >= 25), col] = 2\n",
    "        df_level.loc[(dfi < 45) & (dfi >= 35), col] = 3\n",
    "        df_level.loc[(dfi < 55) & (dfi >= 45), col] = 4\n",
    "        df_level.loc[dfi >= 55, col] = 5\n",
    "    elif col == 'accident':\n",
    "        df_level.loc[dfi == 0, col] = 1\n",
    "        df_level.loc[(dfi <= 2) & (dfi > 0), col] = 2\n",
    "        df_level.loc[(dfi <= 4) & (dfi > 2), col] = 3\n",
    "    # else:\n",
    "    #     df_level.loc[(dfi < Min) & (dfi >= 0), col] = 1\n",
    "    #     df_level.loc[(dfi < Q1) & (dfi >= Min), col] = 2\n",
    "    #     df_level.loc[(dfi < Q2) & (dfi >= Q1), col] = 3\n",
    "    #     df_level.loc[(dfi < Q3) & (dfi >= Q2), col] = 4\n",
    "    #     df_level.loc[(dfi < Max) & (dfi >= Q3), col] = 5\n",
    "    #     df_level.loc[dfi >= Max, col] = 6\n",
    "df_level.index.name = 'id'\n",
    "display(df_level)"
   ],
   "metadata": {
    "collapsed": false,
    "pycharm": {
     "name": "#%%\n"
    }
   }
  },
  {
   "cell_type": "code",
   "execution_count": 48,
   "outputs": [
    {
     "data": {
      "text/plain": "1    96571\n2    16075\n3     4272\n4     1437\n5     1395\nName: counts, dtype: int64"
     },
     "execution_count": 48,
     "metadata": {},
     "output_type": "execute_result"
    }
   ],
   "source": [
    "df_level['counts'].value_counts()"
   ],
   "metadata": {
    "collapsed": false,
    "pycharm": {
     "name": "#%%\n"
    }
   }
  },
  {
   "cell_type": "code",
   "execution_count": 36,
   "outputs": [
    {
     "data": {
      "text/plain": "<Figure size 2160x1080 with 12 Axes>",
      "image/png": "[encoded data removed]"
     },
     "metadata": {
      "needs_background": "light"
     },
     "output_type": "display_data"
    }
   ],
   "source": [
    "df_level.plot(kind='box', subplots=True, layout=(3, 4), sharex=False, sharey=False, figsize=(30, 15))\n",
    "plt.tight_layout()\n",
    "\n",
    "plt.show()"
   ],
   "metadata": {
    "collapsed": false,
    "pycharm": {
     "name": "#%%\n"
    }
   }
  },
  {
   "cell_type": "code",
   "execution_count": null,
   "outputs": [],
   "source": [
    "df_level['counts'].value_counts()\n",
    "print(df_level['score_mean'].value_counts())\n",
    "print(df_level['fine_mean'].value_counts())\n",
    "print(df_level['severity_mean'].value_counts())\n"
   ],
   "metadata": {
    "collapsed": false,
    "pycharm": {
     "name": "#%%\n"
    }
   }
  },
  {
   "cell_type": "code",
   "execution_count": 67,
   "outputs": [],
   "source": [
    "df_level.to_csv(\"/Users/jiarui/Study/交通事故/data/cluster_level.csv\")"
   ],
   "metadata": {
    "collapsed": false,
    "pycharm": {
     "name": "#%%\n"
    }
   }
  },
  {
   "cell_type": "code",
   "execution_count": 66,
   "outputs": [
    {
     "name": "stdout",
     "output_type": "stream",
     "text": [
      "机动车载货长度、宽度、高度超过规定的                         4490\n",
      "机动车载物行驶时遗洒、飘散载运物的                          3333\n",
      "驾驶载客汽车以外的其他机动车载人超过核定人数的                    2931\n",
      "货运机动车驾驶室载人超过核定人数的                          1798\n",
      "公路客运车辆以外的载客汽车违反规定载货的                       1353\n",
      "货运机动车违反规定载人的                                853\n",
      "驾驶营运客车（不包括公共汽车）、校车以外的载客汽车载人超过核定人数未达20%的     323\n",
      "客运机动车违反规定载货的                                271\n",
      "驾驶营运客车（不包括公共汽车）以外的其他载客汽车载人超过核定人数20％以上的      253\n",
      "驾驶货车违反规定载客的                                 150\n",
      "驾驶轻便摩托车载人的                                   45\n",
      "拖拉机载人的                                       36\n",
      "驾驶残疾人机动车违反规定载人的                              12\n",
      "轻便摩托车载人（造成事故的）                                6\n",
      "其他机动车载人超过核定人数的（造成事故的）                         6\n",
      "持临时移动证上道路行驶的机动车载货或者载                          3\n",
      "货运机动车违反规定载人的（造成事故的）                           2\n",
      "驾驶电动自行车违反规定载人的                                2\n",
      "Name: 违法行为_违法描述, dtype: int64\n",
      "违法行为_违法描述          违法行为记分数  severity  occur_prob\n",
      "驾驶机动车违反道路交通信号灯通行的  6.0      5.0       5.0           919\n",
      "                   0.0      5.0       5.0            26\n",
      "dtype: int64\n",
      "违法行为_违法描述                                        违法行为记分数  severity  occur_prob\n",
      "机动车违反禁令标志指示的                                     3.0      1.0       1.0           16615\n",
      "机动车违反禁止标线指示的                                     3.0      1.0       1.0            4242\n",
      "不按所需行进方向驶入导向车道的                                  2.0      1.0       1.0            2550\n",
      "违反禁令标志指示（本省历史数据）                                 3.0      1.0       1.0            2027\n",
      "机动车违反禁令标志指示的                                     0.0      1.0       1.0             629\n",
      "机动车驾驶人不服从交警指挥的                                   0.0      1.0       1.0             417\n",
      "机动车违反警告标志指示的                                     0.0      1.0       1.0             240\n",
      "违反禁止标线指示（造成事故的）                                  3.0      1.0       1.0             153\n",
      "机动车违反禁止标线指示的                                     0.0      1.0       1.0             144\n",
      "机动车违反警告标线指示的                                     0.0      1.0       1.0             134\n",
      "遇停止信号时，停在停止线以内或路口内的                              2.0      1.0       1.0              53\n",
      "违反禁令标志指示（造成事故的）                                  3.0      1.0       1.0              41\n",
      "不按所需行进方向驶入导向车道的（造成事故的）                           2.0      1.0       1.0              28\n",
      "通过路口遇放行信号不依次通过的                                  2.0      1.0       1.0              25\n",
      "行人违反交通信号通行的                                      0.0      5.0       5.0              24\n",
      "外地驾驶人因不熟悉道路，违反载货汽车禁令标志指示通行的，经交通警察当场指出后立即终止违法行为的  0.0      1.0       1.0              16\n",
      "非机动车不按照交通信号指示通行的                                 0.0      1.0       1.0              10\n",
      "行人横过道路未走人行横道或过街设施的                               0.0      1.0       1.0               8\n",
      "不按所需行进方向驶入导向车道的                                  0.0      1.0       1.0               6\n",
      "违反禁令标志指示（本省历史数据）                                 0.0      1.0       1.0               5\n",
      "遇停止信号时，停在停止线以内或路口内的                              0.0      1.0       1.0               4\n",
      "dtype: int64\n"
     ]
    }
   ],
   "source": [
    "df_vehicle[df_vehicle['违法行为_违法小类'] == '违法装载'][['违法行为记分数', '违法行为_违法描述', '违法行为罚款金额']]\n",
    "\n",
    "print(df_vehicle[df_vehicle['违法行为_违法小类'] == '违法装载']['违法行为_违法描述'].value_counts())\n",
    "\n",
    "print(\n",
    "    df_vehicle[df_vehicle['违法行为_违法小类'] == '违反交通信号灯'][['违法行为_违法描述', '违法行为记分数', 'severity', 'occur_prob']].value_counts())\n",
    "\n",
    "print(\n",
    "    df_vehicle[df_vehicle['违法行为_违法小类'] == '违反交通信号'][['违法行为_违法描述', '违法行为记分数', 'severity', 'occur_prob']].value_counts())"
   ],
   "metadata": {
    "collapsed": false,
    "pycharm": {
     "name": "#%%\n"
    }
   }
  },
  {
   "cell_type": "markdown",
   "source": [
    "### 对聚类的结果进行统计分析\n",
    "包括：\n",
    "司机的年龄组成、司机的主要准驾车型、违章类型和违章描述"
   ],
   "metadata": {
    "collapsed": false
   }
  },
  {
   "cell_type": "code",
   "execution_count": 40,
   "outputs": [],
   "source": [
    "import matplotlib.pyplot as plt\n",
    "\n",
    "\n",
    "# 输入的是一个df，主键是每个司机的驾驶证号id\n",
    "# 得到这个司机群体的信息\n",
    "def analyseDF(df_input):\n",
    "    # 年龄组成\n",
    "    ages = df_input['age'].value_counts()\n",
    "    plt.subplot(2, 1, 1)\n",
    "    df_input['age'].plot(kind='hist')\n",
    "    plt.title(\"Count of age\")\n",
    "\n",
    "    # print(ages)\n",
    "    # 外地or本地\n",
    "    is_local = df_input['is_local'].value_counts()\n",
    "    print(is_local)\n",
    "    # 准驾车型\n",
    "    trans_codes = df_input['机动车_交通方式说明'].value_counts()\n",
    "    print(trans_codes.head(15))\n",
    "    trans_codes = df_input['trans_code'].value_counts()\n",
    "    print(trans_codes)\n",
    "\n",
    "    driver_count = df_input['违法行为_违法小类'].value_counts()\n",
    "    print(driver_count.head(15))\n",
    "\n",
    "    driver_count = df_input['违法行为_违法描述'].value_counts()\n",
    "    print(driver_count.head(15))\n",
    "\n",
    "    # 计算违章时间段统计\n",
    "\n",
    "    df_input['违法时间'] = pd.to_datetime(df_input['违法时间'])\n",
    "    df_input['违法时间'] = pd.to_datetime(df_input['违法时间'])\n",
    "    df_date = df_input.sort_values('违法时间')\n",
    "    df_date = df_date.set_index('违法时间')\n",
    "    # print(df_date.truncate(before='2019',after='2022-1').head())\n",
    "    df_date_col = df_input['违法时间']\n",
    "    df_date_col['hour'] = df_input['违法时间'].dt.hour\n",
    "    df_date_col['minute'] = df_input['违法时间'].dt.minute\n",
    "    a = df_date_col['hour'].value_counts().sort_index()\n",
    "    plt.subplot(2, 1, 2)\n",
    "    a.plot(kind='bar', x='Time')\n",
    "    plt.title(\"Count of Time\")\n",
    "    plt.show()"
   ],
   "metadata": {
    "collapsed": false,
    "pycharm": {
     "name": "#%%\n"
    }
   }
  },
  {
   "cell_type": "code",
   "execution_count": null,
   "outputs": [],
   "source": [
    "# list_ids = list(df_level['id'])\n",
    "# list_analyse = ['当事人_驾驶证号', '机动车_交通方式说明', '违法行为_违法小类', '机动车_号牌号码', '违法时间', '违法行为_违法描述', 'trans_code', 'is_local', 'age',\n",
    "#                 'score', 'fine', 'occur_prob', 'severity']\n",
    "# df_analyse = df_vehicle[df_vehicle['当事人_驾驶证号'].isin(list_ids)][list_analyse]\n",
    "# df_analyse['机动车_号牌号码'] = df_analyse['机动车_号牌号码'].str[0:2]\n",
    "# df_analyse\n",
    "#\n",
    "# analyseDF(df_analyse)"
   ],
   "metadata": {
    "collapsed": false,
    "pycharm": {
     "name": "#%%\n"
    }
   }
  },
  {
   "cell_type": "code",
   "execution_count": 54,
   "outputs": [
    {
     "name": "stdout",
     "output_type": "stream",
     "text": [
      "119750\n",
      "1    36398\n",
      "5    35515\n",
      "2    28833\n",
      "3    12814\n",
      "4     6186\n",
      "         4\n",
      "Name: QCL_1, dtype: int64\n",
      "28833\n",
      "5    35941\n",
      "3    35221\n",
      "4    27514\n",
      "2    13296\n",
      "1     7778\n",
      "Name: label, dtype: int64\n"
     ]
    }
   ],
   "source": [
    "df_cluster = pd.read_csv(\"/Users/jiarui/Study/交通事故/data/cluster_level_output.csv\")\n",
    "\n",
    "print(len(df_cluster))\n",
    "print(df_cluster['QCL_1'].value_counts())\n",
    "df_cluster['QCL_1'].astype('int64', errors='ignore')\n",
    "print(len(df_cluster[df_cluster['QCL_1'] == '2']))\n",
    "\n",
    "cluster_lable = 'QCL_2'\n",
    "df_cluster['label'] = 0\n",
    "df_cluster.loc[(df_cluster[cluster_lable] == '1') | (df_cluster[cluster_lable] == 1), 'label'] = 1\n",
    "df_cluster.loc[(df_cluster[cluster_lable] == '2') | (df_cluster[cluster_lable] == 2), 'label'] = 2\n",
    "df_cluster.loc[(df_cluster[cluster_lable] == '3') | (df_cluster[cluster_lable] == 3), 'label'] = 3\n",
    "df_cluster.loc[(df_cluster[cluster_lable] == '4') | (df_cluster[cluster_lable] == 4), 'label'] = 4\n",
    "df_cluster.loc[(df_cluster[cluster_lable] == '5') | (df_cluster[cluster_lable] == 5), 'label'] = 5\n",
    "print(df_cluster['label'].value_counts())"
   ],
   "metadata": {
    "collapsed": false,
    "pycharm": {
     "name": "#%%\n"
    }
   }
  },
  {
   "cell_type": "markdown",
   "source": [
    "读取聚类结果 将结果分成k份，分别进行分析"
   ],
   "metadata": {
    "collapsed": false,
    "pycharm": {
     "name": "#%% md\n"
    }
   }
  },
  {
   "cell_type": "code",
   "execution_count": 55,
   "outputs": [
    {
     "name": "stdout",
     "output_type": "stream",
     "text": [
      "---------------------------k = 1----------------------\n",
      "共有违法者7778人\n",
      "共有违法记录13409条\n",
      "2    6861\n",
      "1    6548\n",
      "Name: is_local, dtype: int64\n",
      "轻便二轮摩托车     3251\n",
      "小型普通客车      1393\n",
      "大型轮式拖拉机     1372\n",
      "小型越野客车      1118\n",
      "重型半挂牵引车     1084\n",
      "小型轮式拖拉机      951\n",
      "正三轮载货摩托车     864\n",
      "中型普通客车       771\n",
      "普通二轮摩托车      644\n",
      "轻便正三轮摩托车     400\n",
      "正三轮载客摩托车     295\n",
      "微型轿车         284\n",
      "手扶拖拉机        247\n",
      "三轮汽车         194\n",
      "普通正三轮摩托车     141\n",
      "Name: 机动车_交通方式说明, dtype: int64\n",
      "5    5595\n",
      "4    3415\n",
      "6    3105\n",
      "3    1245\n",
      "2      32\n",
      "1      17\n",
      "Name: trans_code, dtype: int64\n",
      "违法上道路行驶     3494\n",
      "违法装载        1954\n",
      "无证驾驶        1694\n",
      "违法停车        1524\n",
      "饮酒驾驶         856\n",
      "违反交通信号       786\n",
      "未携带驾驶证       660\n",
      "未按规定办理业务     568\n",
      "不按规定使用灯光     413\n",
      "违法占道行驶       412\n",
      "违法变更车道       234\n",
      "货动车辆超载       169\n",
      "违法抢行         163\n",
      "违法掉头         105\n",
      "醉酒驾驶          81\n",
      "Name: 违法行为_违法小类, dtype: int64\n",
      "未取得驾驶证驾驶机动车的               1612\n",
      "不按规定临时停车影响其他车辆和行人通行的       1276\n",
      "机动车未按规定在限制、禁止的区域通行         1029\n",
      "饮酒后驾驶机动车的                   824\n",
      "上道路行驶的机动车未悬挂机动车号牌的          672\n",
      "未随车携带驾驶证的                   642\n",
      "机动车违反禁令标志指示的                584\n",
      "公路客运车辆以外的载客汽车违反规定载货的        521\n",
      "未随车携带行驶证的                   493\n",
      "机动车未按照规定期限进行安全技术检验的         490\n",
      "驾驶载客汽车以外的其他机动车载人超过核定人数的     443\n",
      "不按规定投保机动车第三者强制责任险的          401\n",
      "机动车载物行驶时遗洒、飘散载运物的           377\n",
      "机动车载货长度、宽度、高度超过规定的          351\n",
      "上道路行驶的机动车未放置保险标志的           347\n",
      "Name: 违法行为_违法描述, dtype: int64\n"
     ]
    },
    {
     "name": "stderr",
     "output_type": "stream",
     "text": [
      "<ipython-input-40-b52943a23606>:36: SettingWithCopyWarning: \n",
      "A value is trying to be set on a copy of a slice from a DataFrame\n",
      "\n",
      "See the caveats in the documentation: https://pandas.pydata.org/pandas-docs/stable/user_guide/indexing.html#returning-a-view-versus-a-copy\n",
      "  df_date_col['hour'] = df_input['违法时间'].dt.hour\n"
     ]
    },
    {
     "data": {
      "text/plain": "<Figure size 432x288 with 2 Axes>",
      "image/png": "[encoded data removed]"
     },
     "metadata": {
      "needs_background": "light"
     },
     "output_type": "display_data"
    },
    {
     "name": "stdout",
     "output_type": "stream",
     "text": [
      "---------------------------k = 2----------------------\n",
      "共有违法者13296人\n",
      "共有违法记录15068条\n",
      "1    12329\n",
      "2     2739\n",
      "Name: is_local, dtype: int64\n",
      "小型轿车        8895\n",
      "轻型栏板货车      2696\n",
      "小型面包车        365\n",
      "小型普通客车       362\n",
      "轻便二轮摩托车      356\n",
      "重型自卸货车       331\n",
      "小型越野客车       321\n",
      "重型半挂牵引车      289\n",
      "轻型厢式货车       252\n",
      "中型普通客车       154\n",
      "轻型自卸货车       141\n",
      "中型栏板货车       115\n",
      "自卸低速货车       102\n",
      "重型厢式货车        88\n",
      "正三轮载货摩托车      84\n",
      "Name: 机动车_交通方式说明, dtype: int64\n",
      "1    9275\n",
      "2    3981\n",
      "4     857\n",
      "5     536\n",
      "3     318\n",
      "6     101\n",
      "Name: trans_code, dtype: int64\n",
      "超速行驶       3883\n",
      "饮酒驾驶       2793\n",
      "违法抢行       2282\n",
      "货动车辆超载     1927\n",
      "逆行         1538\n",
      "违法装载        922\n",
      "未携带驾驶证      349\n",
      "无证驾驶        250\n",
      "违法上道路行驶     220\n",
      "违法变更车道      143\n",
      "违法超车        127\n",
      "违法占道行驶      126\n",
      "违反交通信号       98\n",
      "违法会车         89\n",
      "未低速通过        56\n",
      "Name: 违法行为_违法小类, dtype: int64\n",
      "饮酒后驾驶机动车的                                               2765\n",
      "驾驶中型以上载客载货汽车、危险物品运输车辆以外的其他机动车行驶超过规定时速未达20%的             1953\n",
      "遇前方机动车停车排队或者缓慢行驶时,借道超车或者占用对面车道、穿插等候车辆的                  1862\n",
      "驾驶中型以上载客载货汽车、校车、危险物品运输车辆以外的其他机动车行驶超过规定时速20%以上未达到50%的    1755\n",
      "机动车逆向行驶的                                                1536\n",
      "驾驶货车载物超过核定载质量30%以上                                      1144\n",
      "驾驶货车载物超过核定载质量未达30%的                                      780\n",
      "等候放行信号时，不依次停车等候的                                         394\n",
      "未随车携带驾驶证的                                                318\n",
      "驾驶营运客车（不包括公共汽车）、校车以外的载客汽车载人超过核定人数未达20%的                  290\n",
      "驾驶营运客车（不包括公共汽车）以外的其他载客汽车载人超过核定人数20％以上的                   239\n",
      "驾驶与准驾车型不相符合的车辆的                                          157\n",
      "驾驶货车违反规定载客的                                              128\n",
      "变更车道时影响正常行驶的机动车的                                         126\n",
      "机动车载货长度、宽度、高度超过规定的                                       114\n",
      "Name: 违法行为_违法描述, dtype: int64\n"
     ]
    },
    {
     "name": "stderr",
     "output_type": "stream",
     "text": [
      "<ipython-input-40-b52943a23606>:36: SettingWithCopyWarning: \n",
      "A value is trying to be set on a copy of a slice from a DataFrame\n",
      "\n",
      "See the caveats in the documentation: https://pandas.pydata.org/pandas-docs/stable/user_guide/indexing.html#returning-a-view-versus-a-copy\n",
      "  df_date_col['hour'] = df_input['违法时间'].dt.hour\n"
     ]
    },
    {
     "data": {
      "text/plain": "<Figure size 432x288 with 2 Axes>",
      "image/png": "[encoded data removed]"
     },
     "metadata": {
      "needs_background": "light"
     },
     "output_type": "display_data"
    },
    {
     "name": "stdout",
     "output_type": "stream",
     "text": [
      "---------------------------k = 3----------------------\n",
      "共有违法者35221人\n",
      "共有违法记录44881条\n",
      "1    34163\n",
      "2    10718\n",
      "Name: is_local, dtype: int64\n",
      "小型轿车          22696\n",
      "轻型栏板货车         8811\n",
      "重型自卸货车         3240\n",
      "重型半挂牵引车        2984\n",
      "轻型厢式货车         1109\n",
      "重型厢式货车          977\n",
      "中型栏板货车          845\n",
      "重型非载货专项作业车      782\n",
      "小型面包车           718\n",
      "重型仓栅式货车         668\n",
      "自卸低速货车          554\n",
      "轻型自卸货车          457\n",
      "中型厢式货车          203\n",
      "重型罐式货车          127\n",
      "中型自卸货车          111\n",
      "Name: 机动车_交通方式说明, dtype: int64\n",
      "1    23435\n",
      "2    18151\n",
      "3     3279\n",
      "4       14\n",
      "6        2\n",
      "Name: trans_code, dtype: int64\n",
      "违法上道路行驶     19964\n",
      "违法停车        18797\n",
      "未按规定办理业务     1361\n",
      "违反交通信号       1135\n",
      "未携带驾驶证        776\n",
      "违法倒车          566\n",
      "违法占道行驶        517\n",
      "违法装载          395\n",
      "违法掉头          300\n",
      "违法变更车道        285\n",
      "未按规定让行        227\n",
      "无证驾驶          138\n",
      "违法抢行           93\n",
      "不按规定使用灯光       88\n",
      "货动车辆超载         35\n",
      "Name: 违法行为_违法小类, dtype: int64\n",
      "机动车未按规定在限制、禁止的区域通行                    16937\n",
      "不按规定临时停车影响其他车辆和行人通行的                  16074\n",
      "不按规定停放影响其他车辆和行人通行的                     1808\n",
      "载货汽车、挂车未按照规定安装侧面及后下部防护装置、粘贴车身反光标识的     1132\n",
      "驾驶机件不符合技术标准的机动车的                        962\n",
      "未随车携带驾驶证的                               734\n",
      "机动车违反规定停放且驾驶人不在现场                       651\n",
      "上道路行驶的机动车未放置保险标志的                       563\n",
      "未随车携带行驶证的                               473\n",
      "上道路行驶的机动车未放置检验合格标志的                     468\n",
      "机动车违反禁令标志指示的                            447\n",
      "不按规定倒车的（造成事故的）                          435\n",
      "变更车道时影响正常行驶的机动车的                        274\n",
      "在禁止掉头或者禁止左转弯标志地点掉头的                     268\n",
      "机动车不在机动车道内行驶的                           261\n",
      "Name: 违法行为_违法描述, dtype: int64\n"
     ]
    },
    {
     "name": "stderr",
     "output_type": "stream",
     "text": [
      "<ipython-input-40-b52943a23606>:36: SettingWithCopyWarning: \n",
      "A value is trying to be set on a copy of a slice from a DataFrame\n",
      "\n",
      "See the caveats in the documentation: https://pandas.pydata.org/pandas-docs/stable/user_guide/indexing.html#returning-a-view-versus-a-copy\n",
      "  df_date_col['hour'] = df_input['违法时间'].dt.hour\n"
     ]
    },
    {
     "data": {
      "text/plain": "<Figure size 432x288 with 2 Axes>",
      "image/png": "[encoded data removed]"
     },
     "metadata": {
      "needs_background": "light"
     },
     "output_type": "display_data"
    },
    {
     "name": "stdout",
     "output_type": "stream",
     "text": [
      "---------------------------k = 4----------------------\n",
      "共有违法者27514人\n",
      "共有违法记录36207条\n",
      "1    27480\n",
      "2     8727\n",
      "Name: is_local, dtype: int64\n",
      "小型轿车          13763\n",
      "轻型栏板货车         9538\n",
      "重型自卸货车         3512\n",
      "重型半挂牵引车        1538\n",
      "重型非载货专项作业车     1271\n",
      "小型面包车          1054\n",
      "轻型厢式货车         1006\n",
      "中型栏板货车          950\n",
      "自卸低速货车          597\n",
      "轻型自卸货车          513\n",
      "重型厢式货车          439\n",
      "小型普通客车          324\n",
      "重型仓栅式货车         276\n",
      "小型越野客车          197\n",
      "中型自卸货车          167\n",
      "Name: 机动车_交通方式说明, dtype: int64\n",
      "2    18779\n",
      "1    14906\n",
      "3     1799\n",
      "4      699\n",
      "5       22\n",
      "6        2\n",
      "Name: trans_code, dtype: int64\n",
      "违法装载        11885\n",
      "违法变更车道       7407\n",
      "违法占道行驶       5137\n",
      "不按规定使用灯光     3188\n",
      "违法掉头         1999\n",
      "违法上道路行驶      1104\n",
      "违法停车         1093\n",
      "违法抢行         1051\n",
      "疲劳驾驶          804\n",
      "醉酒驾驶          664\n",
      "无证驾驶          440\n",
      "未按规定办理业务      333\n",
      "违反交通信号        298\n",
      "未携带驾驶证        239\n",
      "货动车辆超载        180\n",
      "Name: 违法行为_违法小类, dtype: int64\n",
      "变更车道时影响正常行驶的机动车的           6573\n",
      "机动车载货长度、宽度、高度超过规定的         3656\n",
      "机动车不在机动车道内行驶的              3267\n",
      "机动车载物行驶时遗洒、飘散载运物的          2616\n",
      "驾驶载客汽车以外的其他机动车载人超过核定人数的    2280\n",
      "机动车不按规定参加安全技术检验的           2032\n",
      "在禁止掉头或者禁止左转弯标志地点掉头的        1661\n",
      "货运机动车驾驶室载人超过核定人数的          1599\n",
      "机动车违反规定使用专用车道的             1373\n",
      "不按规定临时停车影响其他车辆和行人通行的        912\n",
      "未依次交替驶入车道减少后的路口、路段的         833\n",
      "不按规定使用灯光的                   809\n",
      "过度疲劳仍继续驾驶的                  804\n",
      "公路客运车辆以外的载客汽车违反规定载货的        801\n",
      "货运机动车违反规定载人的                682\n",
      "Name: 违法行为_违法描述, dtype: int64\n"
     ]
    },
    {
     "name": "stderr",
     "output_type": "stream",
     "text": [
      "<ipython-input-40-b52943a23606>:36: SettingWithCopyWarning: \n",
      "A value is trying to be set on a copy of a slice from a DataFrame\n",
      "\n",
      "See the caveats in the documentation: https://pandas.pydata.org/pandas-docs/stable/user_guide/indexing.html#returning-a-view-versus-a-copy\n",
      "  df_date_col['hour'] = df_input['违法时间'].dt.hour\n"
     ]
    },
    {
     "data": {
      "text/plain": "<Figure size 432x288 with 2 Axes>",
      "image/png": "[encoded data removed]"
     },
     "metadata": {
      "needs_background": "light"
     },
     "output_type": "display_data"
    },
    {
     "name": "stdout",
     "output_type": "stream",
     "text": [
      "---------------------------k = 5----------------------\n",
      "共有违法者35941人\n",
      "共有违法记录48444条\n",
      "1    40074\n",
      "2     8370\n",
      "Name: is_local, dtype: int64\n",
      "小型轿车          21761\n",
      "轻型栏板货车        14459\n",
      "轻型厢式货车         2039\n",
      "重型半挂牵引车        1987\n",
      "重型厢式货车          992\n",
      "小型面包车           826\n",
      "重型自卸货车          813\n",
      "中型栏板货车          724\n",
      "重型仓栅式货车         632\n",
      "小型普通客车          419\n",
      "小型越野客车          410\n",
      "轻便二轮摩托车         368\n",
      "轻型自卸货车          361\n",
      "重型非载货专项作业车      356\n",
      "中型厢式货车          257\n",
      "Name: 机动车_交通方式说明, dtype: int64\n",
      "1    22675\n",
      "2    21440\n",
      "3     2146\n",
      "4     1128\n",
      "5     1008\n",
      "6       47\n",
      "Name: trans_code, dtype: int64\n",
      "违反交通信号      25054\n",
      "违法上道路行驶     11996\n",
      "未携带驾驶证       3480\n",
      "违法停车         1458\n",
      "未按规定让行       1146\n",
      "违反交通信号灯       899\n",
      "违法装载          711\n",
      "未按规定办理业务      677\n",
      "货动车辆超载        610\n",
      "违法变更车道        432\n",
      "违法占道行驶        415\n",
      "违法抢行          351\n",
      "超速行驶          217\n",
      "无证驾驶          217\n",
      "逆行            200\n",
      "Name: 违法行为_违法小类, dtype: int64\n",
      "机动车违反禁令标志指示的                  16008\n",
      "机动车违反禁止标线指示的                   4166\n",
      "机动车未按照规定期限进行安全技术检验的            3892\n",
      "未随车携带驾驶证的                      3435\n",
      "不按所需行进方向驶入导向车道的                2471\n",
      "上道路行驶的机动车未放置保险标志的              2273\n",
      "违反禁令标志指示（本省历史数据）               1995\n",
      "未随车携带行驶证的                      1896\n",
      "机动车未按规定在限制、禁止的区域通行             1619\n",
      "上道路行驶的机动车未放置检验合格标志的            1513\n",
      "不按规定临时停车影响其他车辆和行人通行的           1207\n",
      "驾驶机动车违反道路交通信号灯通行的               899\n",
      "转弯的机动车未让直行的车辆、行人先行的（造成事故的）      597\n",
      "不按规定投保机动车第三者强制责任险的              484\n",
      "变更车道时影响正常行驶的机动车的                391\n",
      "Name: 违法行为_违法描述, dtype: int64\n"
     ]
    },
    {
     "name": "stderr",
     "output_type": "stream",
     "text": [
      "<ipython-input-40-b52943a23606>:36: SettingWithCopyWarning: \n",
      "A value is trying to be set on a copy of a slice from a DataFrame\n",
      "\n",
      "See the caveats in the documentation: https://pandas.pydata.org/pandas-docs/stable/user_guide/indexing.html#returning-a-view-versus-a-copy\n",
      "  df_date_col['hour'] = df_input['违法时间'].dt.hour\n"
     ]
    },
    {
     "data": {
      "text/plain": "<Figure size 432x288 with 2 Axes>",
      "image/png": "[encoded data removed]"
     },
     "metadata": {
      "needs_background": "light"
     },
     "output_type": "display_data"
    }
   ],
   "source": [
    "# k =5\n",
    "for i in range(1, 6):\n",
    "    print('---------------------------k = {}----------------------'.format(i))\n",
    "    dfi = df_cluster[df_cluster['label'] == i]\n",
    "    list_ids = list(dfi['id'])\n",
    "    print('共有违法者{}人'.format(len(list_ids)))\n",
    "    list_analyse = ['当事人_驾驶证号', '机动车_交通方式说明', '违法行为_违法小类', '机动车_号牌号码', '违法时间', '违法行为_违法描述', 'trans_code', 'is_local',\n",
    "                    'age', 'severity']\n",
    "    df_analyse = df_vehicle[df_vehicle['当事人_驾驶证号'].isin(list_ids)][list_analyse]\n",
    "    print('共有违法记录{}条'.format(len(df_analyse)))\n",
    "    df_analyse['机动车_号牌号码'] = df_analyse['机动车_号牌号码'].str[0:2]\n",
    "    analyseDF(df_analyse)"
   ],
   "metadata": {
    "collapsed": false,
    "pycharm": {
     "name": "#%%\n"
    }
   }
  },
  {
   "cell_type": "code",
   "execution_count": null,
   "outputs": [],
   "source": [],
   "metadata": {
    "collapsed": false,
    "pycharm": {
     "name": "#%%\n"
    }
   }
  }
 ],
 "metadata": {
  "kernelspec": {
   "display_name": "Python 3",
   "language": "python",
   "name": "python3"
  },
  "language_info": {
   "codemirror_mode": {
    "name": "ipython",
    "version": 2
   },
   "file_extension": ".py",
   "mimetype": "text/x-python",
   "name": "python",
   "nbconvert_exporter": "python",
   "pygments_lexer": "ipython2",
   "version": "2.7.6"
  }
 },
 "nbformat": 4,
 "nbformat_minor": 0
}